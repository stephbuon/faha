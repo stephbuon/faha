{
 "cells": [
  {
   "cell_type": "markdown",
   "metadata": {},
   "source": [
    "# Placeholder Title"
   ]
  },
  {
   "cell_type": "markdown",
   "metadata": {},
   "source": [
    "placeholder text"
   ]
  },
  {
   "cell_type": "code",
   "execution_count": 132,
   "metadata": {},
   "outputs": [
    {
     "name": "stdout",
     "output_type": "stream",
     "text": [
      "['it', 'was', 'the', 'best', 'of', 'times', 'it', 'was', 'the', 'worst', 'of', 'times']\n"
     ]
    }
   ],
   "source": [
    "wordstring = ['it', 'was', 'the', 'best', 'of', 'times', 'it', 'was', 'the', 'worst', 'of', 'times']\n",
    "\n",
    "print(wordstring)"
   ]
  },
  {
   "cell_type": "markdown",
   "metadata": {},
   "source": [
    "## For Loops"
   ]
  },
  {
   "cell_type": "code",
   "execution_count": null,
   "metadata": {},
   "outputs": [],
   "source": [
    "print(wordstring[0]+'!!!')\n",
    "print(wordstring[1]+'!!!')\n",
    "print(wordstring[2]+'!!!')\n",
    "print(wordstring[3]+'!!!')\n",
    "print(wordstring[4]+'!!!')\n",
    "print(wordstring[5]+'!!!')\n",
    "print(wordstring[6]+'!!!')\n",
    "print(wordstring[7]+'!!!')\n",
    "print(wordstring[8]+'!!!')\n",
    "print(wordstring[9]+'!!!')\n",
    "print(wordstring[10]+'!!!')\n",
    "print(wordstring[11]+'!!!')"
   ]
  },
  {
   "cell_type": "code",
   "execution_count": 133,
   "metadata": {},
   "outputs": [
    {
     "name": "stdout",
     "output_type": "stream",
     "text": [
      "it\n",
      "was\n",
      "the\n",
      "best\n",
      "of\n",
      "times\n",
      "it\n",
      "was\n",
      "the\n",
      "worst\n",
      "of\n",
      "times\n"
     ]
    }
   ],
   "source": [
    "for word in wordstring:\n",
    "    print(word)"
   ]
  },
  {
   "cell_type": "markdown",
   "metadata": {},
   "source": [
    "## Counting Words"
   ]
  },
  {
   "cell_type": "markdown",
   "metadata": {},
   "source": []
  },
  {
   "cell_type": "code",
   "execution_count": 3,
   "metadata": {},
   "outputs": [],
   "source": [
    "from collections import Counter"
   ]
  },
  {
   "cell_type": "markdown",
   "metadata": {},
   "source": [
    "enter"
   ]
  },
  {
   "cell_type": "code",
   "execution_count": 73,
   "metadata": {},
   "outputs": [
    {
     "data": {
      "text/plain": [
       "3"
      ]
     },
     "execution_count": 73,
     "metadata": {},
     "output_type": "execute_result"
    }
   ],
   "source": [
    "song.count('row')"
   ]
  },
  {
   "cell_type": "markdown",
   "metadata": {},
   "source": [
    "enter"
   ]
  },
  {
   "cell_type": "code",
   "execution_count": 74,
   "metadata": {},
   "outputs": [
    {
     "data": {
      "text/plain": [
       "1"
      ]
     },
     "execution_count": 74,
     "metadata": {},
     "output_type": "execute_result"
    }
   ],
   "source": [
    "song.count('boat')"
   ]
  },
  {
   "cell_type": "markdown",
   "metadata": {},
   "source": [
    "enter"
   ]
  },
  {
   "cell_type": "code",
   "execution_count": 135,
   "metadata": {},
   "outputs": [],
   "source": [
    "from bs4 import BeautifulSoup\n",
    "import requests\n",
    "\n",
    "url = 'https://www.oldbaileyonline.org/browse.jsp?id=t19110228-43&div=t19110228-43'\n",
    "\n",
    "source = requests.get(url)\n",
    "\n",
    "page_content = BeautifulSoup(source.text, 'html.parser').find_all('p')"
   ]
  },
  {
   "cell_type": "code",
   "execution_count": 142,
   "metadata": {},
   "outputs": [],
   "source": [
    "cleaned_paragraphs = []\n",
    "\n",
    "for paragraph in page_content:\n",
    "    cleaned_paragraphs.extend(paragraph.stripped_strings)"
   ]
  },
  {
   "cell_type": "code",
   "execution_count": 159,
   "metadata": {},
   "outputs": [
    {
     "data": {
      "text/plain": [
       "[\"MORRISON, Stinie (29, baker), was indicted                                           for and charged on the Coroner's inquisition with the wilful murder of\",\n",
       " 'Leon Beron.',\n",
       " 'Mr. Muir, Mr. Leycester, and Mr. Oddie prosecuted; Mr. Abinger, Mr. Macgregor (and subsequently Mr. Roland Oliver) defended.',\n",
       " 'Police-constable',\n",
       " 'DAVID DAVIS',\n",
       " ', 545 W, proved plans.',\n",
       " 'Police-constable',\n",
       " 'JOSEPH MUMFORD',\n",
       " ', 863 W. At 8.10 a.m. on January 1 I was on duty on Clapham Common. Walking along the path that leads from the bandstand to Lavender Gardens I saw close to the path and lying amongst some bushes the body of a dead man. I just picked up his left hand and dropped it again. I sent for assistance, and other police officers and the divisional surgeon arrived.',\n",
       " 'Cross-examined. I saw some footprints; I cannot say how many; I did not take an impression of them. There was a pool of blood at the side of the railings and a trail of blood from the railings across the path. The body had a great-coat, the second button from the top being buttoned. The head was lying on the astrachan collar of his coat, and underneath that were some dead leaves. The body was lying flat on its back, and quite naturally, the left arm being exposed and the right under the hip. His hat, which was unbroken, was lying 12 ft. south of the head, on the mould. There was blood on the left side of the coat-collar, on his face, and on the sleeves. There was a collection of blood near the head. This black handkerchief (Exhibit 36) was laid over the crown of his head and tucked into the top of his coat, hiding the top of his head and both sides of the face. This handkerchief (Exhibit 38) was lying on his left-hand side. The face was covered with dirt. I saw the cuts on the right and left cheek on the day of the inquest, January 15; they were from the eye to the mouth. (Mr. Abinger here put in Exhibits 13 and 13A, which were photographs of the dead man, stating that they had been supplied by the Director of Public Prosecutions. Mr. Muir stated that the Prosecution was in no way responsible for them, and he was by no means clear whether they were direct photographs.']"
      ]
     },
     "execution_count": 159,
     "metadata": {},
     "output_type": "execute_result"
    }
   ],
   "source": [
    "cleaned_paragraphs[:10]"
   ]
  },
  {
   "cell_type": "code",
   "execution_count": 160,
   "metadata": {},
   "outputs": [],
   "source": [
    "body_text = ''.join(cleaned_paragraphs).lower()\n",
    "\n",
    "remove = ['(', ')', '.', ',', ';', '\\'']\n",
    "\n",
    "for symbol in remove:\n",
    "    text = text.replace(symbol, '')\n",
    "\n",
    "words = text.split()"
   ]
  },
  {
   "cell_type": "code",
   "execution_count": 161,
   "metadata": {},
   "outputs": [
    {
     "name": "stdout",
     "output_type": "stream",
     "text": [
      "['morrison', 'stinie', '29', 'baker', 'was', 'indicted', 'for', 'and', 'charged', 'on', 'the', 'coroners', 'inquisition', 'with', 'the', 'wilful', 'murder', 'ofleon', 'beronmr', 'muir', 'mr', 'leycester', 'and', 'mr', 'oddie', 'prosecuted', 'mr', 'abinger', 'mr', 'macgregor', 'and', 'subsequently', 'mr', 'roland', 'oliver', 'defendedpolice-constabledavid', 'davis', '545', 'w', 'proved', 'planspolice-constablejoseph', 'mumford', '863', 'w', 'at', '810', 'am', 'on', 'january', '1', 'i', 'was', 'on', 'duty', 'on', 'clapham', 'common', 'walking', 'along', 'the', 'path', 'that', 'leads', 'from', 'the', 'bandstand', 'to', 'lavender', 'gardens', 'i', 'saw', 'close', 'to', 'the', 'path', 'and', 'lying', 'amongst', 'some', 'bushes', 'the', 'body', 'of', 'a', 'dead', 'man', 'i', 'just', 'picked', 'up', 'his', 'left', 'hand', 'and', 'dropped', 'it', 'again', 'i', 'sent', 'for']\n"
     ]
    }
   ],
   "source": [
    "print(words[:100])"
   ]
  },
  {
   "cell_type": "code",
   "execution_count": 162,
   "metadata": {},
   "outputs": [],
   "source": [
    "case_count = Counter(words)"
   ]
  },
  {
   "cell_type": "code",
   "execution_count": 163,
   "metadata": {},
   "outputs": [
    {
     "data": {
      "text/plain": [
       "[('the', 1957),\n",
       " ('i', 1883),\n",
       " ('to', 953),\n",
       " ('and', 831),\n",
       " ('a', 708),\n",
       " ('was', 700),\n",
       " ('of', 618),\n",
       " ('in', 600),\n",
       " ('he', 535),\n",
       " ('on', 528),\n",
       " ('not', 503),\n",
       " ('that', 499),\n",
       " ('it', 452),\n",
       " ('at', 412),\n",
       " ('have', 322),\n",
       " ('had', 313),\n",
       " ('my', 307),\n",
       " ('him', 287),\n",
       " ('me', 241),\n",
       " ('for', 232),\n",
       " ('with', 231),\n",
       " ('there', 231),\n",
       " ('is', 222),\n",
       " ('did', 204),\n",
       " ('as', 198)]"
      ]
     },
     "execution_count": 163,
     "metadata": {},
     "output_type": "execute_result"
    }
   ],
   "source": [
    "case_count.most_common(25)"
   ]
  },
  {
   "cell_type": "code",
   "execution_count": 172,
   "metadata": {},
   "outputs": [],
   "source": [
    "stop_words = ['the', 'i', 'to', 'was', 'of', 'in', 'me', 'about', 'and', 'a', 'on', 'not', 'that', 'at', 'it', 'have', 'had', 'my',\n",
    "              'with', 'for', 'is', 'did', 'as', 'there', 'from', 'or', 'were', 'been', 'but', 'they', 'when', 'went', 'do', 'this', 'two',\n",
    "              'would', 'we', 'saw', 'never', 'be', 'before', 'an', 'got', 'after', 'say', 'some', 'see', 'them', 'up', 'go', 'because',\n",
    "              'seen', 'no', 'came', 'out', 'asked', 'took', 'cannot', 'what', 'you', 'could', 'if', 'by', 'which', 'told', 'any', 'has',\n",
    "              'put', 'are', 'then', 'other', 'mr', 'made', 'should', 'into', 'where', 'used', 'said', 'last', 'think', 'said', 'left',\n",
    "              'one', 'whether', 'gave', 'only', 'am', 'pm', 'very', 'come', 'all', 'between', 'statement', 'first', 'three', 'remember',\n",
    "              'every', 'who', 'take', 'can', 'said', 'know', 'him', 'his', 'her', 'hers'\n",
    "              ]"
   ]
  },
  {
   "cell_type": "code",
   "execution_count": 173,
   "metadata": {},
   "outputs": [],
   "source": [
    "filtered_sentence = [w for w in words if not w.lower() in stop_words]"
   ]
  },
  {
   "cell_type": "code",
   "execution_count": 174,
   "metadata": {},
   "outputs": [
    {
     "data": {
      "text/plain": [
       "['morrison',\n",
       " 'stinie',\n",
       " '29',\n",
       " 'baker',\n",
       " 'indicted',\n",
       " 'charged',\n",
       " 'coroners',\n",
       " 'inquisition',\n",
       " 'wilful',\n",
       " 'murder',\n",
       " 'ofleon',\n",
       " 'beronmr',\n",
       " 'muir',\n",
       " 'leycester',\n",
       " 'oddie',\n",
       " 'prosecuted',\n",
       " 'abinger',\n",
       " 'macgregor',\n",
       " 'subsequently',\n",
       " 'roland',\n",
       " 'oliver',\n",
       " 'defendedpolice-constabledavid',\n",
       " 'davis',\n",
       " '545',\n",
       " 'w']"
      ]
     },
     "execution_count": 174,
     "metadata": {},
     "output_type": "execute_result"
    }
   ],
   "source": [
    "filtered_sentence[:25]"
   ]
  },
  {
   "cell_type": "code",
   "execution_count": 175,
   "metadata": {},
   "outputs": [],
   "source": [
    "a = Counter(filtered_sentence)"
   ]
  },
  {
   "cell_type": "code",
   "execution_count": 176,
   "metadata": {},
   "outputs": [
    {
     "data": {
      "text/plain": [
       "[('he', 535),\n",
       " ('prisoner', 192),\n",
       " ('street', 136),\n",
       " ('time', 112),\n",
       " ('police', 108),\n",
       " ('january', 98),\n",
       " ('exhibit', 84),\n",
       " ('night', 83),\n",
       " ('man', 82),\n",
       " ('deceased', 78),\n",
       " ('road', 68),\n",
       " ('court', 64),\n",
       " ('december', 61),\n",
       " ('murder', 60),\n",
       " ('she', 59),\n",
       " ('restaurant', 58),\n",
       " ('station', 58),\n",
       " ('day', 54),\n",
       " ('evidence', 54),\n",
       " ('house', 52),\n",
       " ('morning', 47),\n",
       " ('blood', 46),\n",
       " ('years', 46),\n",
       " ('abinger', 45),\n",
       " ('name', 45)]"
      ]
     },
     "execution_count": 176,
     "metadata": {},
     "output_type": "execute_result"
    }
   ],
   "source": [
    "a.most_common(25)"
   ]
  },
  {
   "cell_type": "code",
   "execution_count": 171,
   "metadata": {},
   "outputs": [
    {
     "data": {
      "text/plain": [
       "<AxesSubplot:title={'center':'Top Grammatical Pronoun-Verb Pairs with He: Searching the Worldnews, Politics, and News Subreddits'}, ylabel='Pair'>"
      ]
     },
     "execution_count": 171,
     "metadata": {},
     "output_type": "execute_result"
    },
    {
     "data": {
      "image/png": "[encoded data removed]",
      "text/plain": [
       "<Figure size 1080x720 with 1 Axes>"
      ]
     },
     "metadata": {
      "needs_background": "light"
     },
     "output_type": "display_data"
    }
   ],
   "source": [
    "import pandas as pd\n",
    "\n",
    "b = pd.DataFrame(a.items(), columns = ['Pair','Count'])\n",
    "b.sort_values(by=['Count'], inplace=True, ascending=False)\n",
    "c = b[:25].copy()\n",
    "import matplotlib as plt\n",
    "\n",
    "plt.rcParams['figure.figsize'] = [15, 10]\n",
    "\n",
    "c.sort_values(by=['Count'], inplace=True, ascending=True)\n",
    "\n",
    "c.plot.barh(x = \"Pair\", y = \"Count\",\n",
    "            title = \"Top Grammatical Pronoun-Verb Pairs with He: Searching the Worldnews, Politics, and News Subreddits\")\n",
    "\n"
   ]
  }
 ],
 "metadata": {
  "kernelspec": {
   "display_name": "Python 3.9.7 64-bit",
   "language": "python",
   "name": "python3"
  },
  "language_info": {
   "codemirror_mode": {
    "name": "ipython",
    "version": 3
   },
   "file_extension": ".py",
   "mimetype": "text/x-python",
   "name": "python",
   "nbconvert_exporter": "python",
   "pygments_lexer": "ipython3",
   "version": "3.9.7"
  },
  "orig_nbformat": 4,
  "vscode": {
   "interpreter": {
    "hash": "916dbcbb3f70747c44a77c7bcd40155683ae19c65e1c03b4aa3499c5328201f1"
   }
  }
 },
 "nbformat": 4,
 "nbformat_minor": 2
}
