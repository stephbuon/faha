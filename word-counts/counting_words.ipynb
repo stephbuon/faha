{
 "cells": [
  {
   "cell_type": "markdown",
   "metadata": {},
   "source": [
    "# Counting Words"
   ]
  },
  {
   "cell_type": "markdown",
   "metadata": {},
   "source": [
    "This Notebook introduces some basic concepts in Python. At the end, users will be able to use their knowledge to count and plot words from the Old Bailey and the 19th-century British Parliamentary Debates (also known as \"Hansard\"). For the latter, we will perform a comparative analysis of word counts for multiple decades. This will give us an opportunity to think critically about whether word counts can help us to see change over time."
   ]
  },
  {
   "cell_type": "markdown",
   "metadata": {},
   "source": [
    "### Python Basics"
   ]
  },
  {
   "cell_type": "markdown",
   "metadata": {},
   "source": [
    "When performing textual analysis we often work with sentences like the following:"
   ]
  },
  {
   "cell_type": "code",
   "execution_count": 1,
   "metadata": {},
   "outputs": [],
   "source": [
    "jane_austen_quote = 'It is a truth universally acknowledged that a single man in possession of a good fortune must be in want of a wife'"
   ]
  },
  {
   "cell_type": "markdown",
   "metadata": {},
   "source": [
    "`jane_austen_quote` is a dummy variable that has been assigned our quote from Jane Austen. We could have named this variable anything, like \"sentence\" or \"austen_quote\" and it would not matter for our code. We just need to assign the quote to a variable (e.g. `jane_austen_quote`) in order to start doing things to it with code. \n",
    "\n",
    "For example, I can add an exclamation point to the end of `jane_austen_quote` like so:"
   ]
  },
  {
   "cell_type": "code",
   "execution_count": 2,
   "metadata": {},
   "outputs": [
    {
     "name": "stdout",
     "output_type": "stream",
     "text": [
      "It is a truth universally acknowledged that a single man in possession of a good fortune must be in want of a wife!\n"
     ]
    }
   ],
   "source": [
    "print(jane_austen_quote + '!')"
   ]
  },
  {
   "cell_type": "markdown",
   "metadata": {},
   "source": [
    "But what if I wanted to add an exclamation point after every word instead of at the end of the sentence? To do that I have to first \"split\" the sentence into words. "
   ]
  },
  {
   "cell_type": "code",
   "execution_count": 3,
   "metadata": {},
   "outputs": [
    {
     "name": "stdout",
     "output_type": "stream",
     "text": [
      "['It', 'is', 'a', 'truth', 'universally', 'acknowledged', 'that', 'a', 'single', 'man', 'in', 'possession', 'of', 'a', 'good', 'fortune', 'must', 'be', 'in', 'want', 'of', 'a', 'wife']\n"
     ]
    }
   ],
   "source": [
    "word_list = jane_austen_quote.split()\n",
    "\n",
    "print(word_list)"
   ]
  },
  {
   "cell_type": "markdown",
   "metadata": {},
   "source": [
    "Now I can do things to each word of the sentence instead of just the full sentence. \n",
    "\n",
    "To add an exclamation point after every word I can access each word in the list and add `!` after it. \n",
    "\n",
    "But, wow, that's a lot of repetitive typing."
   ]
  },
  {
   "cell_type": "code",
   "execution_count": 4,
   "metadata": {},
   "outputs": [
    {
     "name": "stdout",
     "output_type": "stream",
     "text": [
      "It!\n",
      "is!\n",
      "a!\n",
      "truth!\n",
      "universally!\n",
      "acknowledged!\n",
      "that!\n",
      "a!\n",
      "single!\n",
      "man!\n",
      "in!\n",
      "possession!\n",
      "of!\n",
      "a!\n",
      "good!\n",
      "fortune!\n"
     ]
    }
   ],
   "source": [
    "print(word_list[0] + '!')\n",
    "print(word_list[1] + '!')\n",
    "print(word_list[2] + '!')\n",
    "print(word_list[3] + '!')\n",
    "print(word_list[4] + '!')\n",
    "print(word_list[5] + '!')\n",
    "print(word_list[6] + '!')\n",
    "print(word_list[7] + '!')\n",
    "print(word_list[8] + '!')\n",
    "print(word_list[9] + '!')\n",
    "print(word_list[10] + '!')\n",
    "print(word_list[11] + '!')\n",
    "print(word_list[12] + '!')\n",
    "print(word_list[13] + '!')\n",
    "print(word_list[14] + '!')\n",
    "print(word_list[15] + '!')"
   ]
  },
  {
   "cell_type": "markdown",
   "metadata": {},
   "source": [
    ". . . and you get the point.\n",
    "\n",
    "Another way I could do this is with a for loop. You can read the syntax of the following for loop like this: \"for every word in `word_list`, print the word with an added exclamation point.\" "
   ]
  },
  {
   "cell_type": "code",
   "execution_count": 5,
   "metadata": {},
   "outputs": [
    {
     "name": "stdout",
     "output_type": "stream",
     "text": [
      "It!\n",
      "is!\n",
      "a!\n",
      "truth!\n",
      "universally!\n",
      "acknowledged!\n",
      "that!\n",
      "a!\n",
      "single!\n",
      "man!\n",
      "in!\n",
      "possession!\n",
      "of!\n",
      "a!\n",
      "good!\n",
      "fortune!\n",
      "must!\n",
      "be!\n",
      "in!\n",
      "want!\n",
      "of!\n",
      "a!\n",
      "wife!\n"
     ]
    }
   ],
   "source": [
    "for word in word_list: # loop through each word in word list\n",
    "    print(word + '!')  #  print the word with an !"
   ]
  },
  {
   "cell_type": "markdown",
   "metadata": {},
   "source": [
    "For our purposes it is not important to have a deep understanding of for loops. However, we did want to introduce them to you becuase you will see them again! (Like in this very Notebook.)"
   ]
  },
  {
   "cell_type": "markdown",
   "metadata": {},
   "source": [
    "### Counting Words"
   ]
  },
  {
   "cell_type": "markdown",
   "metadata": {},
   "source": [
    "Now that we understand how to work with sentences a little better, let's count words! We can use `.count()` to see how often words are mentioned."
   ]
  },
  {
   "cell_type": "code",
   "execution_count": 6,
   "metadata": {},
   "outputs": [
    {
     "data": {
      "text/plain": [
       "4"
      ]
     },
     "execution_count": 6,
     "metadata": {},
     "output_type": "execute_result"
    }
   ],
   "source": [
    "word_list.count('a')"
   ]
  },
  {
   "cell_type": "code",
   "execution_count": 7,
   "metadata": {},
   "outputs": [
    {
     "data": {
      "text/plain": [
       "1"
      ]
     },
     "execution_count": 7,
     "metadata": {},
     "output_type": "execute_result"
    }
   ],
   "source": [
    "word_list.count('truth')"
   ]
  },
  {
   "cell_type": "markdown",
   "metadata": {},
   "source": [
    "### Counting Words with \"Counter\""
   ]
  },
  {
   "cell_type": "markdown",
   "metadata": {},
   "source": [
    "`.count()` is useful if we want to see how often an individual word is stated in a text, but more often than not we want a word count for the entire document. \n",
    "\n",
    "One easy way to count all the words in a document is by using the `Counter()` command from the \"collections\" module. In the world of Python, a \"module\" is like an additional library that gives us more commands than what are typically provided by the base language. If you try to use `Counter()` without first loading the module, you will receive an error: `NameError: name 'Counter' is not defined`. "
   ]
  },
  {
   "cell_type": "code",
   "execution_count": 8,
   "metadata": {},
   "outputs": [],
   "source": [
    "from collections import Counter"
   ]
  },
  {
   "cell_type": "code",
   "execution_count": 9,
   "metadata": {},
   "outputs": [
    {
     "name": "stdout",
     "output_type": "stream",
     "text": [
      "Counter({'a': 4, 'in': 2, 'of': 2, 'It': 1, 'is': 1, 'truth': 1, 'universally': 1, 'acknowledged': 1, 'that': 1, 'single': 1, 'man': 1, 'possession': 1, 'good': 1, 'fortune': 1, 'must': 1, 'be': 1, 'want': 1, 'wife': 1})\n"
     ]
    }
   ],
   "source": [
    "word_count = Counter(word_list)\n",
    "\n",
    "print(word_count)"
   ]
  },
  {
   "cell_type": "markdown",
   "metadata": {},
   "source": [
    "We have to give `Counter()` a list of words or else we may not get the intended results. To see what I mean, let's try to use `Counter()` on the entire sentence instead of the word list."
   ]
  },
  {
   "cell_type": "code",
   "execution_count": 10,
   "metadata": {},
   "outputs": [
    {
     "name": "stdout",
     "output_type": "stream",
     "text": [
      "Counter({' ': 22, 'a': 9, 'n': 9, 't': 8, 's': 8, 'e': 8, 'o': 8, 'i': 7, 'u': 4, 'l': 4, 'f': 4, 'r': 3, 'w': 3, 'd': 3, 'g': 3, 'h': 2, 'm': 2, 'I': 1, 'v': 1, 'y': 1, 'c': 1, 'k': 1, 'p': 1, 'b': 1})\n"
     ]
    }
   ],
   "source": [
    "quote_count = Counter(jane_austen_quote)\n",
    "\n",
    "print(quote_count)"
   ]
  },
  {
   "cell_type": "markdown",
   "metadata": {},
   "source": [
    "Whoops, that's a mess!"
   ]
  },
  {
   "cell_type": "markdown",
   "metadata": {},
   "source": [
    "### Viewing Top Words"
   ]
  },
  {
   "cell_type": "markdown",
   "metadata": {},
   "source": [
    "We can now use `.most_common()` on our word count to see the top words and their counts. "
   ]
  },
  {
   "cell_type": "code",
   "execution_count": 11,
   "metadata": {},
   "outputs": [
    {
     "data": {
      "text/plain": [
       "[('a', 4),\n",
       " ('in', 2),\n",
       " ('of', 2),\n",
       " ('It', 1),\n",
       " ('is', 1),\n",
       " ('truth', 1),\n",
       " ('universally', 1),\n",
       " ('acknowledged', 1),\n",
       " ('that', 1),\n",
       " ('single', 1)]"
      ]
     },
     "execution_count": 11,
     "metadata": {},
     "output_type": "execute_result"
    }
   ],
   "source": [
    "word_count.most_common(10)"
   ]
  },
  {
   "cell_type": "markdown",
   "metadata": {},
   "source": [
    "### Counting Words in an Old Bailey Trial"
   ]
  },
  {
   "cell_type": "markdown",
   "metadata": {},
   "source": [
    "Now let's put our knowledge of words counts to the test! We are now going to count the words in an Old Bailey Trial from 1911. \n",
    "\n",
    "The following code \"scrapes\" the trial text from the web page's HTML so that we can the count words. \n",
    "\n",
    "You can put that put that URL in your browser to see which trial we are working with. You can also replace that URL with a different one, like an article from NPR (try: https://www.npr.org/2022/07/07/1110226702/boris-johnson-resignation-prime-minister-uk). "
   ]
  },
  {
   "cell_type": "code",
   "execution_count": 12,
   "metadata": {},
   "outputs": [],
   "source": [
    "from bs4 import BeautifulSoup\n",
    "import requests\n",
    "\n",
    "url = 'https://www.oldbaileyonline.org/browse.jsp?id=t19110228-43&div=t19110228-43'\n",
    "\n",
    "source = requests.get(url) # get the data from the URL\n",
    "\n",
    "page_content = BeautifulSoup(source.text, 'html.parser').find_all('p') # \"parse\" the data and find all text with paragraph anchors\n",
    "\n",
    "text = [] # define an empty list\n",
    "for paragraph in page_content: # do some additional cleaning. For each paragraph, \"strip\" the strings (i.e. get rid of anchors left over from the HTML)\n",
    "    text.extend(paragraph.stripped_strings) # put each new, cleaned paragraph in our (once) empty list "
   ]
  },
  {
   "cell_type": "code",
   "execution_count": 13,
   "metadata": {},
   "outputs": [
    {
     "data": {
      "text/plain": [
       "[\"MORRISON, Stinie (29, baker), was indicted                                           for and charged on the Coroner's inquisition with the wilful murder of\",\n",
       " 'Leon Beron.',\n",
       " 'Mr. Muir, Mr. Leycester, and Mr. Oddie prosecuted; Mr. Abinger, Mr. Macgregor (and subsequently Mr. Roland Oliver) defended.',\n",
       " 'Police-constable',\n",
       " 'DAVID DAVIS',\n",
       " ', 545 W, proved plans.',\n",
       " 'Police-constable',\n",
       " 'JOSEPH MUMFORD',\n",
       " ', 863 W. At 8.10 a.m. on January 1 I was on duty on Clapham Common. Walking along the path that leads from the bandstand to Lavender Gardens I saw close to the path and lying amongst some bushes the body of a dead man. I just picked up his left hand and dropped it again. I sent for assistance, and other police officers and the divisional surgeon arrived.',\n",
       " 'Cross-examined. I saw some footprints; I cannot say how many; I did not take an impression of them. There was a pool of blood at the side of the railings and a trail of blood from the railings across the path. The body had a great-coat, the second button from the top being buttoned. The head was lying on the astrachan collar of his coat, and underneath that were some dead leaves. The body was lying flat on its back, and quite naturally, the left arm being exposed and the right under the hip. His hat, which was unbroken, was lying 12 ft. south of the head, on the mould. There was blood on the left side of the coat-collar, on his face, and on the sleeves. There was a collection of blood near the head. This black handkerchief (Exhibit 36) was laid over the crown of his head and tucked into the top of his coat, hiding the top of his head and both sides of the face. This handkerchief (Exhibit 38) was lying on his left-hand side. The face was covered with dirt. I saw the cuts on the right and left cheek on the day of the inquest, January 15; they were from the eye to the mouth. (Mr. Abinger here put in Exhibits 13 and 13A, which were photographs of the dead man, stating that they had been supplied by the Director of Public Prosecutions. Mr. Muir stated that the Prosecution was in no way responsible for them, and he was by no means clear whether they were direct photographs.']"
      ]
     },
     "execution_count": 13,
     "metadata": {},
     "output_type": "execute_result"
    }
   ],
   "source": [
    "text[:10] # show just the first 10 items in text"
   ]
  },
  {
   "cell_type": "markdown",
   "metadata": {},
   "source": [
    "Now we can clean our scraped text by removing symbols (e.g. periods, parenthesis, commas, etc.) and returning the trial text as a list of words (remember, we need a list if we want to count words)."
   ]
  },
  {
   "cell_type": "code",
   "execution_count": 14,
   "metadata": {},
   "outputs": [],
   "source": [
    "body_text = ''.join(text).lower() # join the text into one sentence and transform all words to lower case\n",
    "\n",
    "remove = ['(', ')', '.', ',', ';', '\\''] # make a list of items we wish to remove\n",
    "\n",
    "for symbol in remove: # loop through every item \n",
    "    body_text = body_text.replace(symbol, '') # if that item is present in the text, replace it\n",
    "\n",
    "old_bailey_word_list = body_text.split() # split the text so we get that list of words we need to use Counter()"
   ]
  },
  {
   "cell_type": "code",
   "execution_count": 15,
   "metadata": {},
   "outputs": [
    {
     "name": "stdout",
     "output_type": "stream",
     "text": [
      "['morrison', 'stinie', '29', 'baker', 'was', 'indicted', 'for', 'and', 'charged', 'on', 'the', 'coroners', 'inquisition', 'with', 'the', 'wilful', 'murder', 'ofleon', 'beronmr', 'muir', 'mr', 'leycester', 'and', 'mr', 'oddie', 'prosecuted', 'mr', 'abinger', 'mr', 'macgregor', 'and', 'subsequently', 'mr', 'roland', 'oliver', 'defendedpolice-constabledavid', 'davis', '545', 'w', 'proved', 'planspolice-constablejoseph', 'mumford', '863', 'w', 'at', '810', 'am', 'on', 'january', '1', 'i', 'was', 'on', 'duty', 'on', 'clapham', 'common', 'walking', 'along', 'the', 'path', 'that', 'leads', 'from', 'the', 'bandstand', 'to', 'lavender', 'gardens', 'i', 'saw', 'close', 'to', 'the', 'path', 'and', 'lying', 'amongst', 'some', 'bushes', 'the', 'body', 'of', 'a', 'dead', 'man', 'i', 'just', 'picked', 'up', 'his', 'left', 'hand', 'and', 'dropped', 'it', 'again', 'i', 'sent', 'for']\n"
     ]
    }
   ],
   "source": [
    "print(old_bailey_word_list[:100])"
   ]
  },
  {
   "cell_type": "markdown",
   "metadata": {},
   "source": [
    "We can now use `Counter()` and find the top words in the trial."
   ]
  },
  {
   "cell_type": "code",
   "execution_count": 16,
   "metadata": {},
   "outputs": [
    {
     "data": {
      "text/plain": [
       "[('the', 1957),\n",
       " ('i', 1883),\n",
       " ('to', 953),\n",
       " ('and', 831),\n",
       " ('a', 708),\n",
       " ('was', 700),\n",
       " ('of', 618),\n",
       " ('in', 600),\n",
       " ('he', 535),\n",
       " ('on', 528),\n",
       " ('not', 503),\n",
       " ('that', 499),\n",
       " ('it', 452),\n",
       " ('at', 412),\n",
       " ('have', 322)]"
      ]
     },
     "execution_count": 16,
     "metadata": {},
     "output_type": "execute_result"
    }
   ],
   "source": [
    "trial_count = Counter(old_bailey_word_list)\n",
    "\n",
    "trial_count.most_common(15)"
   ]
  },
  {
   "cell_type": "markdown",
   "metadata": {},
   "source": [
    "Well . . . that's not very interesting . . . our top words are just made up things like \"the\" or \"and.\" And it's very possible that any document we count will return something similar.\n",
    "\n",
    "Analysts who work with text-as-data have a term for words like these--they're called \"stop words\"--and for the sake of our resesarch, we can simply remove them. "
   ]
  },
  {
   "cell_type": "code",
   "execution_count": 17,
   "metadata": {},
   "outputs": [],
   "source": [
    "stop_words = ['the', 'i', 'to', 'was', 'of', 'in', 'me', 'about', 'and', 'a', 'on', 'not', 'that', 'at', 'it', 'have', 'had', 'my',\n",
    "              'with', 'for', 'is', 'did', 'as', 'there', 'from', 'or', 'were', 'been', 'but', 'they', 'when', 'went', 'do', 'this', 'two',\n",
    "              'would', 'we', 'saw', 'never', 'be', 'before', 'an', 'got', 'after', 'say', 'some', 'see', 'them', 'up', 'go', 'because',\n",
    "              'seen', 'no', 'came', 'out', 'asked', 'took', 'cannot', 'what', 'you', 'could', 'if', 'by', 'which', 'told', 'any', 'has',\n",
    "              'put', 'are', 'then', 'other', 'mr', 'made', 'should', 'into', 'where', 'used', 'said', 'last', 'think', 'said', 'left',\n",
    "              'one', 'whether', 'gave', 'only', 'am', 'pm', 'very', 'come', 'all', 'between', 'statement', 'first', 'three', 'remember',\n",
    "              'every', 'who', 'take', 'can', 'said', 'know', 'him', 'his', 'her', 'hers'\n",
    "              ]"
   ]
  },
  {
   "cell_type": "markdown",
   "metadata": {},
   "source": [
    "To remove stop words, let's go back to `old_bailey_word_list` and do some additional cleaning. \n",
    "\n",
    "This time we are going to remove any word that is also in `stop_words`. The following code can be read like this: \"for every word in `old_bailey_word_list` if that word is not in `stop_words`, keep it! Otherwise, don't!\""
   ]
  },
  {
   "cell_type": "code",
   "execution_count": 18,
   "metadata": {},
   "outputs": [],
   "source": [
    "clean_old_bailey_word_list = []\n",
    "\n",
    "for word in old_bailey_word_list: # for every word in our word list\n",
    "    if word not in stop_words: # if the word is not in stop words \n",
    "        clean_old_bailey_word_list.append(word) # keep it and add it to our new list (named \"clean_old_bailey_word_list\")\n",
    "\n",
    "clean_trial_count = Counter(clean_old_bailey_word_list)"
   ]
  },
  {
   "cell_type": "code",
   "execution_count": 19,
   "metadata": {},
   "outputs": [
    {
     "data": {
      "text/plain": [
       "[('he', 535),\n",
       " ('prisoner', 192),\n",
       " ('street', 136),\n",
       " ('time', 112),\n",
       " ('police', 108),\n",
       " ('january', 98),\n",
       " ('exhibit', 84),\n",
       " ('night', 83),\n",
       " ('man', 82),\n",
       " ('deceased', 78),\n",
       " ('road', 68),\n",
       " ('court', 64),\n",
       " ('december', 61),\n",
       " ('murder', 60),\n",
       " ('she', 59)]"
      ]
     },
     "execution_count": 19,
     "metadata": {},
     "output_type": "execute_result"
    }
   ],
   "source": [
    "clean_trial_count.most_common(15)"
   ]
  },
  {
   "cell_type": "markdown",
   "metadata": {},
   "source": [
    "This looks much better! If you want you can remove even more words by adding them to `stop_words`."
   ]
  },
  {
   "cell_type": "markdown",
   "metadata": {},
   "source": [
    "### Visualizing Our Results"
   ]
  },
  {
   "cell_type": "markdown",
   "metadata": {},
   "source": [
    "Now let's visualize our top words. Visualization is an important step in analysis becuase it makes it helps us communicate our findings to others. In the following code we take our top 25 words and plot them on a bar chart. "
   ]
  },
  {
   "cell_type": "code",
   "execution_count": 20,
   "metadata": {},
   "outputs": [],
   "source": [
    "top_words = dict(clean_trial_count.most_common(25))"
   ]
  },
  {
   "cell_type": "code",
   "execution_count": 22,
   "metadata": {},
   "outputs": [
    {
     "data": {
      "image/png": "[encoded data removed]",
      "text/plain": [
       "<Figure size 1080x720 with 1 Axes>"
      ]
     },
     "metadata": {
      "needs_background": "light"
     },
     "output_type": "display_data"
    }
   ],
   "source": [
    "import matplotlib.pyplot as plt\n",
    "\n",
    "plt.rcParams['figure.figsize'] = [15, 10]\n",
    "\n",
    "plt.bar(range(len(top_words)), list(top_words.values()), align='center')\n",
    "plt.xticks(range(len(top_words)), list(top_words.keys()))\n",
    "plt.xticks(rotation = 45)\n",
    "plt.show()"
   ]
  },
  {
   "cell_type": "markdown",
   "metadata": {},
   "source": [
    "### Counting Words in the C19 Hansard Corpus"
   ]
  },
  {
   "cell_type": "markdown",
   "metadata": {},
   "source": [
    "Now we are going to count words at a greater scale using the 19th-century British Parliamentary debates (also known as \"Hansard\"). We will count words of just the sentences containing the word \"woman\" from three decades -- 1820, 1860, and 1880 -- to see whether the words used in sentences regarding women change over time. Our goal is to perform a comparative analysis of the word counts. \n",
    "\n",
    "But first -- in order to do this job efficiently -- we are going to add another tool to our Python toolbelt: the \"function.\" While it is not important to have a deep understanding of functions for this week, we do want to introduce them to you becuase you will see them again!"
   ]
  },
  {
   "cell_type": "markdown",
   "metadata": {},
   "source": [
    "### Defining Functions"
   ]
  },
  {
   "cell_type": "markdown",
   "metadata": {},
   "source": [
    "Imagine you are in you kitchen baking cookies. You want each cookie to be the shape of a star. One way to do this would be to use a knife to carve each star, one-by-one, in your dough. But that would be very laborious! A knife might be the wrong tool to use.\n",
    "\n",
    "Instead you could make a mold of a star and then use that mold to cut the rest of your stars. Importantly, if you use a mold then you only have to make the star shape once.\n",
    "\n",
    "Functions in code work the same way. To see what I mean, let's revisit our quote from Jane Austen and write a function that transforms the words to lower case, splits the sentence into a list of words, and adds an exclamation point to the end.  "
   ]
  },
  {
   "cell_type": "code",
   "execution_count": 23,
   "metadata": {},
   "outputs": [],
   "source": [
    "def string_splitter(input_string): # \"string_splitter\" splits our sentence into individual words and transforms the words to lower case\n",
    "    added_punctuation  = input_string + '!'\n",
    "    lower_case_words = added_punctuation.lower()\n",
    "    word_list = lower_case_words.split()\n",
    "    return word_list # functions must have a return statement, or else we will input our data and we won't receive anything in return"
   ]
  },
  {
   "cell_type": "markdown",
   "metadata": {},
   "source": [
    "In the above code, `string_splitter()` takes an input -- a string -- and then performs each operation. The function is terminated with a `return` statement. If we wrote this code without a specifying the data we wish to return, we would input the data but get nothing back."
   ]
  },
  {
   "cell_type": "code",
   "execution_count": 24,
   "metadata": {},
   "outputs": [
    {
     "name": "stdout",
     "output_type": "stream",
     "text": [
      "['it', 'is', 'a', 'truth', 'universally', 'acknowledged', 'that', 'a', 'single', 'man', 'in', 'possession', 'of', 'a', 'good', 'fortune', 'must', 'be', 'in', 'want', 'of', 'a', 'wife!']\n"
     ]
    }
   ],
   "source": [
    "jane_austen_word_list = string_splitter(jane_austen_quote)\n",
    "\n",
    "print(jane_austen_word_list)"
   ]
  },
  {
   "cell_type": "markdown",
   "metadata": {},
   "source": [
    "Now we can reuse the code from `string_splitter()` without rewriting every line."
   ]
  },
  {
   "cell_type": "code",
   "execution_count": 25,
   "metadata": {},
   "outputs": [
    {
     "name": "stdout",
     "output_type": "stream",
     "text": [
      "['it', 'was', 'the', 'best', 'of', 'times,', 'it', 'was', 'the', 'worst', 'of', 'times!']\n"
     ]
    }
   ],
   "source": [
    "charles_dickens_quote = 'It was the best of times, it was the worst of times'\n",
    "\n",
    "charles_dickens_quote = string_splitter(charles_dickens_quote)\n",
    "\n",
    "print(charles_dickens_quote)"
   ]
  },
  {
   "cell_type": "code",
   "execution_count": 26,
   "metadata": {},
   "outputs": [
    {
     "name": "stdout",
     "output_type": "stream",
     "text": [
      "['we', 'know', 'what', 'we', 'are,', 'but', 'know', 'not', 'what', 'we', 'may', 'be!']\n"
     ]
    }
   ],
   "source": [
    "shakespeare_quote = 'We know what we are, but know not what we may be'\n",
    "\n",
    "shakespeare_quote = string_splitter(shakespeare_quote)\n",
    "\n",
    "print(shakespeare_quote)"
   ]
  },
  {
   "cell_type": "markdown",
   "metadata": {},
   "source": [
    "Why did we learn how to write functions? Becuase we are going to analyze three different data sets. Each data set will need to be imported, cleaned, and restructured so that it is a list of words that can be given to `Counter()`. By defining a function we will only need to write the code to structure our data once. "
   ]
  },
  {
   "cell_type": "markdown",
   "metadata": {},
   "source": [
    "### Working with (Bigger) Historical Data"
   ]
  },
  {
   "cell_type": "markdown",
   "metadata": {},
   "source": [
    "19th-century Britain experienced many transformations in the way it viewed women. The 1860s, for example, saw the Contagious Diseases Acts -- a series of nation-wide regulations placed on women's bodies -- as they were deemed to be the sources of sickness for British soldiers.\n",
    "\n",
    "We are going to count words from sentences with the word \"woman\" from three decades -- 1820, 1860, and 1880 -- to see if we can see changes in the way that sentences regarding women have changed over time."
   ]
  },
  {
   "cell_type": "markdown",
   "metadata": {},
   "source": [
    "### Reading the Hansard Corpus"
   ]
  },
  {
   "cell_type": "markdown",
   "metadata": {},
   "source": [
    "We wrote the code to import data sets for this week for you becuase the process is a little complex. Though, you should recognize the purpose of multiple lines! \n",
    "\n",
    "The following function imports the data as a list-of-lists. A list-of-lists is a \"2-dimensional\" object (a list within another list) and so we need to flatten it into a \"1-dimensional\" list so it is the same structure as the lists we have been giving `Counter()`."
   ]
  },
  {
   "cell_type": "code",
   "execution_count": 53,
   "metadata": {},
   "outputs": [],
   "source": [
    "import json \n",
    "import re\n",
    "\n",
    "def flatten_list(period_words): # this flattens the 2-dimensional object into a flat object to be used with Counter()\n",
    "    flat_list = []\n",
    "    \n",
    "    for list in period_words:\n",
    "        for word in list:\n",
    "            flat_list.append(word)\n",
    "                \n",
    "    return flat_list\n",
    "\n",
    "def data_import(working_dir):\n",
    "\n",
    "    with open(working_dir, newline = '') as f: # read the file as a list-of-lists\n",
    "            reader = json.loads(f.read()) # read the JSON file as a Python object \n",
    "            data = list(reader)[1:]\n",
    "            data = list(map(str, data))\n",
    "            \n",
    "    data = [re.sub(r'\\\\\\\\n|\\\\\\\\t|\\'s', '', word) for word in data] # remove line breaks, tab breaks, and possessive \"s\"\n",
    "    data = [re.sub(r'[^\\w\\s]|_', '', word) for word in data] # remove punctuation and underscore\n",
    "    data = [re.sub(r'\\d{1, 3}', '', word) for word in data] # remove digits that are a minimum of 1 and a maximum of 3\n",
    "    data = [re.sub(r'\\w*\\d\\w*', '', word) for word in data] # remove character strings that contain a digit\n",
    "        \n",
    "    data = [word.lower() for word in data] # transform the words to lower case\n",
    "    data = [word.split() for word in data] # split the sentence into individual words\n",
    "\n",
    "    data = flatten_list(data) # call our other function to flatten the data into a list to be given to Counter()\n",
    "\n",
    "    return data"
   ]
  },
  {
   "cell_type": "markdown",
   "metadata": {},
   "source": [
    "Now that we have defined our functions to import our data we can tell our data which file we want to import. Here we import data from 1860."
   ]
  },
  {
   "cell_type": "code",
   "execution_count": 60,
   "metadata": {},
   "outputs": [
    {
     "name": "stdout",
     "output_type": "stream",
     "text": [
      "['entenceid', 'text', 'that', 'was', 'the', 'first', 'safeguard', 'of', 'an', 'englishwoman', 'tried', 'for', 'her', 'conduct', 'in', 'england', 'entenceid', 'text', 'the', 'third', 'safeguard', 'of', 'an', 'englishwoman', 'brought', 'to', 'her', 'trial', 'in', 'england', 'was', 'that', 'compulsory', 'process', 'by', 'which', 'she', 'might', 'bring', 'into', 'court', 'witnesses', 'to', 'her', 'conduct', 'against', 'whom', 'neither', 'bribes', 'nor', 'threats', 'nor', 'any', 'procurements', 'of', 'her', 'adversaries', 'could', 'avail', 'one', 'straw', 'entenceid', 'text', 'it', 'is', 'true', 'that', 'when', 'that', 'great', 'man', 'found', 'out', 'that', 'there', 'existed', 'a', 'profligate', 'machination', 'against', 'the', 'liberties', 'of', 'rome', 'he', 'made', 'use', 'of', 'the', 'information', 'of', 'a', 'woman', 'and', 'of', 'certain', 'foreign', 'ambassadors', 'and', 'advised']\n"
     ]
    }
   ],
   "source": [
    "hansard_1860 = data_import('hansard_sentences_with_woman/hansard_woman_1820.json')\n",
    "\n",
    "print(hansard_1860[:100])"
   ]
  },
  {
   "cell_type": "markdown",
   "metadata": {},
   "source": [
    "### Removing Stop Words Using a Function\n",
    "Now let's remove stop words. \n",
    "\n",
    "This code to remove stop words probably looks familiar. We have already used it to remove stop words from the Old Bailey trial. Now we will define a function named `remove_stop_words()` so we can remove stop words without having to rewrite the code every time! \n",
    "\n",
    "This function is a little different becuase instead of a single input, it takes two inputs: a list of word you wish to count and a list of words you wish to remove. "
   ]
  },
  {
   "cell_type": "code",
   "execution_count": 42,
   "metadata": {},
   "outputs": [],
   "source": [
    "def remove_stop_words(flattened_list, stop_words):\n",
    "    clean_hansard = []\n",
    "    \n",
    "    for word in flattened_list:\n",
    "        if word not in stop_words:\n",
    "            clean_hansard.append(word)\n",
    "    return clean_hansard"
   ]
  },
  {
   "cell_type": "markdown",
   "metadata": {},
   "source": [
    "We already have a stop words list from when we were visualizing our Old Bailey data. We can use it again here."
   ]
  },
  {
   "cell_type": "code",
   "execution_count": 43,
   "metadata": {},
   "outputs": [
    {
     "data": {
      "text/plain": [
       "[('woman', 740), ('he', 319), ('man', 214), ('she', 174), ('case', 89)]"
      ]
     },
     "execution_count": 43,
     "metadata": {},
     "output_type": "execute_result"
    }
   ],
   "source": [
    "clean_hansard_1860 = remove_stop_words(hansard_1860, stop_words)\n",
    "\n",
    "hansard_1860_count = Counter(clean_hansard_1860)\n",
    "\n",
    "hansard_1860_count.most_common(5)"
   ]
  },
  {
   "cell_type": "markdown",
   "metadata": {},
   "source": [
    "Our code worked! Now we are going to do this process two more times. "
   ]
  },
  {
   "cell_type": "code",
   "execution_count": 44,
   "metadata": {},
   "outputs": [],
   "source": [
    "hansard_1820 = data_import('hansard_sentences_with_woman/hansard_woman_1820.json')\n",
    "\n",
    "clean_hansard_1820 = remove_stop_words(hansard_1820, stop_words)\n",
    "\n",
    "hansard_1820_count = Counter(clean_hansard_1820)"
   ]
  },
  {
   "cell_type": "code",
   "execution_count": 45,
   "metadata": {},
   "outputs": [],
   "source": [
    "hansard_1880 = data_import('hansard_sentences_with_woman/hansard_woman_1880.json')\n",
    "\n",
    "clean_hansard_1880 = remove_stop_words(hansard_1880, stop_words)\n",
    "\n",
    "hansard_1880_count = Counter(clean_hansard_1880)"
   ]
  },
  {
   "cell_type": "markdown",
   "metadata": {},
   "source": [
    "Let's now visualize our top words from our data (sentences from 1820, 1860, and 1880 that contain the word \"woman\")."
   ]
  },
  {
   "cell_type": "markdown",
   "metadata": {},
   "source": [
    "### Comparing the Top Words in 1820, 1860, and 1880"
   ]
  },
  {
   "cell_type": "code",
   "execution_count": 47,
   "metadata": {},
   "outputs": [
    {
     "data": {
      "image/png": "[encoded data removed]",
      "text/plain": [
       "<Figure size 1080x720 with 1 Axes>"
      ]
     },
     "metadata": {
      "needs_background": "light"
     },
     "output_type": "display_data"
    }
   ],
   "source": [
    "top_words_1820 = dict(hansard_1820_count.most_common(25))\n",
    "\n",
    "plt.rcParams['figure.figsize'] = [15, 10]\n",
    "\n",
    "plt.bar(range(len(top_words_1820)), list(top_words_1820.values()), align='center')\n",
    "plt.title('Top Words from Sentences in 1820 that Contain the Word \"Woman\"', fontsize=20)\n",
    "plt.xticks(range(len(top_words_1820)), list(top_words_1820.keys()))\n",
    "plt.xticks(rotation = 45)\n",
    "plt.show()"
   ]
  },
  {
   "cell_type": "code",
   "execution_count": 48,
   "metadata": {},
   "outputs": [
    {
     "data": {
      "image/png": "[encoded data removed]",
      "text/plain": [
       "<Figure size 1080x720 with 1 Axes>"
      ]
     },
     "metadata": {
      "needs_background": "light"
     },
     "output_type": "display_data"
    }
   ],
   "source": [
    "top_words_1860 = dict(hansard_1860_count.most_common(25))\n",
    "\n",
    "plt.rcParams['figure.figsize'] = [15, 10]\n",
    "\n",
    "plt.bar(range(len(top_words_1860)), list(top_words_1860.values()), align='center')\n",
    "plt.title('Top Words from Sentences in 1860 that Contain the Word \"Woman\"', fontsize=20)\n",
    "plt.xticks(range(len(top_words_1860)), list(top_words_1860.keys()))\n",
    "plt.xticks(rotation = 45)\n",
    "plt.show()"
   ]
  },
  {
   "cell_type": "code",
   "execution_count": 49,
   "metadata": {},
   "outputs": [
    {
     "data": {
      "image/png": "[encoded data removed]",
      "text/plain": [
       "<Figure size 1080x720 with 1 Axes>"
      ]
     },
     "metadata": {
      "needs_background": "light"
     },
     "output_type": "display_data"
    }
   ],
   "source": [
    "top_words_1880 = dict(hansard_1880_count.most_common(25))\n",
    "\n",
    "plt.rcParams['figure.figsize'] = [15, 10]\n",
    "\n",
    "plt.bar(range(len(top_words_1880)), list(top_words_1880.values()), align='center')\n",
    "plt.title('Top Words from Sentences in 1880 that Contain the Word \"Woman\"', fontsize=20)\n",
    "plt.xticks(range(len(top_words_1880)), list(top_words_1880.keys()))\n",
    "plt.xticks(rotation = 45)\n",
    "plt.show()"
   ]
  },
  {
   "cell_type": "markdown",
   "metadata": {},
   "source": [
    "### Assignment\n",
    "When we first counted words in the Old Baily trial our results contained a lot of stop words. While we did manage to remove lots of stop words from our Hansard data using the same list of stop words designed for our Old Bailey data, it does seem like we need to remove more. \n",
    "\n",
    "For instance, unlike the Old Bailey transcripts, the Hansard Parliamentary debates mentions words like \"house\" (refering to the House of Commons and the House of Lords). We also see words like \"may\" and \"did\" in our visualizations. \n",
    "\n",
    "Your assignment is to think critically about whcih words are meaningful for analysis and whcih words can be removed. Keep in mind that the words you choose to keep or remove will reveal different dimensions of the corpus. \n",
    "\n",
    "When you think a word should be removed you can add it to your `stop_words` list."
   ]
  },
  {
   "cell_type": "code",
   "execution_count": 50,
   "metadata": {},
   "outputs": [
    {
     "name": "stdout",
     "output_type": "stream",
     "text": [
      "['the', 'i', 'to', 'was', 'of', 'in', 'me', 'about', 'and', 'a', 'on', 'not', 'that', 'at', 'it', 'have', 'had', 'my', 'with', 'for', 'is', 'did', 'as', 'there', 'from', 'or', 'were', 'been', 'but', 'they', 'when', 'went', 'do', 'this', 'two', 'would', 'we', 'saw', 'never', 'be', 'before', 'an', 'got', 'after', 'say', 'some', 'see', 'them', 'up', 'go', 'because', 'seen', 'no', 'came', 'out', 'asked', 'took', 'cannot', 'what', 'you', 'could', 'if', 'by', 'which', 'told', 'any', 'has', 'put', 'are', 'then', 'other', 'mr', 'made', 'should', 'into', 'where', 'used', 'said', 'last', 'think', 'said', 'left', 'one', 'whether', 'gave', 'only', 'am', 'pm', 'very', 'come', 'all', 'between', 'statement', 'first', 'three', 'remember', 'every', 'who', 'take', 'can', 'said', 'know', 'him', 'his', 'her', 'hers', 'might', 'bill', 'such', 'so']\n"
     ]
    }
   ],
   "source": [
    "stop_words = stop_words + [ 'might', 'bill', 'such', 'so'] \n",
    "\n",
    "print(stop_words)"
   ]
  },
  {
   "cell_type": "markdown",
   "metadata": {},
   "source": [
    "After adding to this list, rerun the code to remove stop words and visualize results for each decade. Let's see whether we can learn anything about how the sentences regarding women changed throughout the 19th-century. "
   ]
  }
 ],
 "metadata": {
  "kernelspec": {
   "display_name": "Python 3.9.7 64-bit",
   "language": "python",
   "name": "python3"
  },
  "language_info": {
   "codemirror_mode": {
    "name": "ipython",
    "version": 3
   },
   "file_extension": ".py",
   "mimetype": "text/x-python",
   "name": "python",
   "nbconvert_exporter": "python",
   "pygments_lexer": "ipython3",
   "version": "3.9.7"
  },
  "orig_nbformat": 4,
  "vscode": {
   "interpreter": {
    "hash": "916dbcbb3f70747c44a77c7bcd40155683ae19c65e1c03b4aa3499c5328201f1"
   }
  }
 },
 "nbformat": 4,
 "nbformat_minor": 2
}
