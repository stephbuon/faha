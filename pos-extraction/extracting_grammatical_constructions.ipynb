{
 "cells": [
  {
   "cell_type": "markdown",
   "metadata": {},
   "source": [
    "# Extracting Gendered Constructions\n",
    "\n",
    "Look at Laura Klein NB"
   ]
  },
  {
   "cell_type": "code",
   "execution_count": 1,
   "metadata": {},
   "outputs": [],
   "source": [
    "import spacy, warnings; warnings.simplefilter('ignore')\n",
    "import csv\n",
    "import re"
   ]
  },
  {
   "cell_type": "code",
   "execution_count": 2,
   "metadata": {},
   "outputs": [],
   "source": [
    "nlp = spacy.load('en_core_web_sm')"
   ]
  },
  {
   "cell_type": "code",
   "execution_count": 3,
   "metadata": {},
   "outputs": [],
   "source": [
    "fname = '/scratch/group/pract-txt-mine/sbuongiorno/hansard_decades/hansard_1800.csv'\n",
    "\n",
    "with open(fname, newline='') as f:\n",
    "    reader = csv.reader(f)\n",
    "    data = list(reader)[1:]\n",
    "    data = list(map(str, data))\n",
    "\n",
    "data = data[:20]"
   ]
  },
  {
   "cell_type": "code",
   "execution_count": 4,
   "metadata": {},
   "outputs": [],
   "source": [
    "data = [re.sub(r'\\b[A-Z]+(?:\\s+[A-Z]+)*\\b', '', ls) for ls in data] # remove words that are all upper case - so names \n",
    "data = [re.sub(r'\\\\\\\\n|\\\\\\\\t|\\'s', '', ls) for ls in data] # remove lien breaks, tab breaks, and possessive \"s\"\n",
    "data = [re.sub(r'[^\\w\\s]|_', '', ls) for ls in data] # remove punctuation and underscore\n",
    "data = [re.sub(r'\\d{1, 3}', '', ls) for ls in data] # remove digits that are a minimum of 1 and a maximum of 3\n",
    "data = [re.sub(r'\\w*\\d\\w*', '', ls) for ls in data] # remove character strings that contain a digit\n",
    "            \n",
    "data = [word.lower() for word in data]\n",
    "\n",
    "data = ' '.join(data)"
   ]
  },
  {
   "cell_type": "code",
   "execution_count": 5,
   "metadata": {},
   "outputs": [],
   "source": [
    "doc = nlp(data)"
   ]
  },
  {
   "cell_type": "code",
   "execution_count": 6,
   "metadata": {},
   "outputs": [
    {
     "data": {
      "text/plain": [
       "[(' ', ' ', 'SPACE', '', 'moved'),\n",
       " ('moved', 'move', 'VERB', 'ROOT', 'moved'),\n",
       " ('that', 'that', 'SCONJ', 'mark', 'appointed'),\n",
       " ('lord', 'lord', 'PROPN', 'compound', 'walsingham'),\n",
       " ('walsingham', 'walsingham', 'PROPN', 'nsubjpass', 'appointed'),\n",
       " ('be', 'be', 'AUX', 'auxpass', 'appointed'),\n",
       " ('appointed', 'appoint', 'VERB', 'ccomp', 'moved'),\n",
       " ('chairman', 'chairman', 'NOUN', 'oprd', 'appointed'),\n",
       " ('of', 'of', 'ADP', 'prep', 'chairman'),\n",
       " ('the', 'the', 'DET', 'det', 'committee')]"
      ]
     },
     "execution_count": 6,
     "metadata": {},
     "output_type": "execute_result"
    }
   ],
   "source": [
    "spacy_tokens = []\n",
    "for token in doc:\n",
    "    row = token.text, token.lemma_, token.pos_, token.dep_, token.head.text\n",
    "    spacy_tokens.append(row)\n",
    "\n",
    "spacy_tokens[:10]"
   ]
  },
  {
   "cell_type": "code",
   "execution_count": null,
   "metadata": {},
   "outputs": [],
   "source": [
    "from spacy.symbols import nsubj, nsubjpass, VERB\n",
    "\n",
    "pairs = []\n",
    "for subject in doc:\n",
    "    if subject.dep == nsubj or subject.dep == nsubjpass and subject.head.pos == VERB:\n",
    "        extracted_pairs = subject.text, subject.head.lemma_\n",
    "        concat_extracted_pairs = ' '.join(extracted_pairs)\n",
    "        pairs.append(str(concat_extracted_pairs))\n",
    "\n",
    "pairs = extractPairs(reddit_sample_he_she_text)"
   ]
  },
  {
   "cell_type": "code",
   "execution_count": null,
   "metadata": {},
   "outputs": [],
   "source": [
    "lowercase_pairs = [word.lower() for word in pairs]"
   ]
  },
  {
   "cell_type": "code",
   "execution_count": null,
   "metadata": {},
   "outputs": [],
   "source": [
    "import re\n",
    "\n",
    "def extract_he(pairs):\n",
    "    regex = re.compile('he ')\n",
    "    male = [word for word in lowercase_pairs if regex.match(word)]\n",
    "    return male\n",
    "\n",
    "male = extractMalePairs(lowercase_pairs)"
   ]
  },
  {
   "cell_type": "code",
   "execution_count": null,
   "metadata": {},
   "outputs": [],
   "source": [
    "stopwords = ['right', 'hon', 'general', 'mr', 'shall', 'majesty', 'exchequer', 'address', 'motion', 'bill',\n",
    "             'earl', 'friend', 'chancellor', 'sense', 'object', 'suppose', 'amidst', 'noble', 'lord', 'agree',\n",
    "             'speech', 'kind', 'january', 'february', 'march', 'april', 'may', 'june', 'july', 'august', 'september',\n",
    "             'october', 'november', 'december', 'order', 'held', 'hold', 'assembly', '£', 'humble', 'about', 'above',\n",
    "             'across', 'address', 'after', 'afterwards', 'again', 'against', 'agree', 'all', 'almost', 'alone', 'along',\n",
    "             'already', 'also', 'although', 'always', 'am', 'amidst', 'among', 'amongst', 'amount', 'an', 'and', 'another',\n",
    "             'any', 'anyhow', 'anything', 'anyway', 'anywhere', 'april', 'are', 'around', 'as', 'at', 'back', 'be', 'was',\n",
    "             'becames', 'because', 'become', 'becomes', 'becoming', 'been', 'before', 'beforehand', 'behind', 'being',\n",
    "             'beside', 'besides', 'between', 'beyond', 'both', 'bottom', 'but', 'by', 'call', 'can', 'cannot', 'do',\n",
    "             'could', 'did', 'does', 'doing', 'done', 'down', 'due', 'during', 'each', 'either', 'else', 'elsewhere',\n",
    "             'empty', 'enough', 'even', 'ever', 'everyone', 'everything', 'everywhere', 'except', 'few', 'first', 'for',\n",
    "             'from', 'front', 'full', 'further', 'general', 'get', 'give', 'go', 'had', 'has', 'have', 'held', 'hence',\n",
    "             'here', 'hereby', 'herein', 'hold', 'however', 'if', 'in', 'indeed', 'into', 'is', 'it', 'its', 'itself',\n",
    "             'just', 'keep', 'kind', 'last', 'latter', 'least', 'less', 'made', 'make', 'many', 'me', 'meanwhile', 'might',\n",
    "             'mine', 'more', 'most', 'mostly', 'move', 'much', 'must', 'name,' 'neither', 'never', 'nevertheless', 'next',\n",
    "             'no', 'noble', 'nobody', 'none', 'nor', 'nothing', 'now', 'nowhere', 'of', 'off', 'often', 'on', 'one', 'once',\n",
    "             'only', 'onto', 'or', 'other', 'others', 'otherwise', 'out', 'over', 'own', 'part', 'perhaps', 'please', 'put',\n",
    "             'quite', 'rather', 'really', 'regarding', 'same', 'say', 'see', 'seem', 'seemed', 'seeming', 'seems', 'sense',\n",
    "             'several', 'shall', 'should', 'show', 'side', 'since', 'so', 'some', 'someone', 'something', 'sometime',\n",
    "             'still', 'such', 'suppose', 'take', 'than', 'that', 'the', 'then', 'there', 'thereby', 'therefore', 'these',\n",
    "             'they', 'this', 'those', 'though', 'thus', 'to', 'together', 'too', 'top', 'toward', 'towards', 'under',\n",
    "             'unless', 'until', 'up', 'upon', 'us', 'used', 'using', 'various', 'very', 'was', 'we', 'well', 'were', 'what',\n",
    "             'whatever', 'when', 'when', 'whereby', 'whether', 'which', 'while', 'who', 'why', 'will', 'with', 'within',\n",
    "             'without', 'would', 'yet', 'bright', 'mr.', 'hansard', 'lancashire', '[]', '£1', '000', 'russell', 'committee',\n",
    "             'reading', 'learned', 'deal', 'time', 'royal', 'gentlemen', 'gentleman', 'year', 'years', 'affairs', 'affair',\n",
    "             'academy', 'sir', 'thought', 'took', 'bring', 'brings', 'brought', 'forward', 'great', 'good', 'department',\n",
    "             'treasury', 'second', 'take', 'taken', 'privy', 'member', 'robert', 'large', 'session', 'secretary', 'notice',\n",
    "             'moment', 'think', 'believe', 'hope', 'ask', 'hear', 'beg', 'support', 'state', 'find', 'admit', 'wish',\n",
    "             'refer', 'reply', 'know', 'feel', 'propose', 'understand', 'let', 'allow', 'like', 'receive', 'consider',\n",
    "             'begin', 'tell', 'like', 'send', 'ought', 'come', 'intend', 'add', 'want', 'stand', 'suggest', 'remind',\n",
    "             'use', 'mean', 'suggest', 's']\n"
   ]
  },
  {
   "cell_type": "code",
   "execution_count": null,
   "metadata": {},
   "outputs": [],
   "source": [
    "def removeStopWords(pairs):\n",
    "    keep_pairs = []\n",
    "    for pair in pairs:\n",
    "        tokens = pair.split(\" \")\n",
    "        tokens_filtered = [word for word in tokens if not word in stopwords]\n",
    "        joined_tokens = \" \".join(tokens_filtered)\n",
    "        if len(tokens_filtered) == 2: # if string is length of two\n",
    "            keep_pairs.append(str(joined_tokens)) # keep the string\n",
    "    return keep_pairs\n",
    "\n",
    "male_no_stopwords = removeStopWords(male)"
   ]
  },
  {
   "cell_type": "code",
   "execution_count": null,
   "metadata": {},
   "outputs": [],
   "source": [
    "def countWords(clean_data):\n",
    "    ngrams_dict = {}\n",
    "    for ngram in clean_data:\n",
    "        if ngram in ngrams_dict:\n",
    "            ngrams_dict[ngram] += 1\n",
    "        else:\n",
    "            ngrams_dict[ngram] = 1\n",
    "    return ngrams_dict\n",
    "            \n",
    "male_dictionary = countWords(male_no_stopwords)"
   ]
  },
  {
   "cell_type": "code",
   "execution_count": null,
   "metadata": {},
   "outputs": [],
   "source": [
    "for kv in list(male_dictionary)[:30]:\n",
    "    print(kv,  male_dictionary[kv])"
   ]
  },
  {
   "cell_type": "markdown",
   "metadata": {},
   "source": [
    "Now get pandas code"
   ]
  },
  {
   "cell_type": "code",
   "execution_count": null,
   "metadata": {},
   "outputs": [],
   "source": []
  }
 ],
 "metadata": {
  "kernelspec": {
   "display_name": "Python 3",
   "language": "python",
   "name": "python3"
  },
  "language_info": {
   "codemirror_mode": {
    "name": "ipython",
    "version": 3
   },
   "file_extension": ".py",
   "mimetype": "text/x-python",
   "name": "python",
   "nbconvert_exporter": "python",
   "pygments_lexer": "ipython3",
   "version": "3.6.7"
  }
 },
 "nbformat": 4,
 "nbformat_minor": 4
}
