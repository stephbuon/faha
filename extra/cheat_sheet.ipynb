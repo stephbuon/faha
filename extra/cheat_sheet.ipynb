{
 "cells": [
  {
   "cell_type": "markdown",
   "metadata": {},
   "source": [
    "# FAHA Cheat Sheet"
   ]
  },
  {
   "cell_type": "markdown",
   "metadata": {},
   "source": [
    "Set your \"working directory\" to the folder holding your Notebook:"
   ]
  },
  {
   "cell_type": "code",
   "execution_count": 8,
   "metadata": {},
   "outputs": [
    {
     "data": {
      "text/plain": [
       "'/home/stephbuon/projects/faha/extra'"
      ]
     },
     "execution_count": 8,
     "metadata": {},
     "output_type": "execute_result"
    }
   ],
   "source": [
    "import os\n",
    "\n",
    "os.path.abspath('')"
   ]
  },
  {
   "cell_type": "markdown",
   "metadata": {},
   "source": [
    "#### Scrape text from Project Gutenberg"
   ]
  },
  {
   "cell_type": "code",
   "execution_count": 7,
   "metadata": {},
   "outputs": [],
   "source": [
    "from urllib import request\n",
    "\n",
    "urls = ['http://www.gutenberg.org/files/2554/2554-0.txt']\n",
    "\n",
    "count = 0\n",
    "\n",
    "for url in urls:\n",
    "    count = count + 1\n",
    "\n",
    "    response = request.urlopen(url)\n",
    "    raw = response.read()\n",
    "    text = raw.decode(\"utf-8-sig\")\n",
    "\n",
    "    fname = 'gutenburg_file_' + str(count)\n",
    "\n",
    "    with open(fname, 'w+') as f:\n",
    "        f.write(text)"
   ]
  },
  {
   "cell_type": "markdown",
   "metadata": {},
   "source": [
    "#### Filtering List of Lists for Keyword"
   ]
  },
  {
   "cell_type": "markdown",
   "metadata": {},
   "source": [
    "Filter data for sentences that include the keyword . . . "
   ]
  },
  {
   "cell_type": "code",
   "execution_count": 9,
   "metadata": {},
   "outputs": [],
   "source": [
    "import json\n",
    "import re \n",
    "\n",
    "def data_import(fname):\n",
    "    # Read file as list of lists. \n",
    "    # Then clean the list of lists \n",
    "\n",
    "    with open(fname, newline = '') as f:\n",
    "            reader = json.loads(f.read()) # read the JSON file as a Python object \n",
    "            data = list(reader)[1:]\n",
    "            data = list(map(str, data))\n",
    "\n",
    "    data = [re.sub(r'\\\\\\\\n|\\\\\\\\t', '', word) for word in data] # remove line breaks and tab breaks\n",
    "    data = [re.sub(r'[^\\w\\s]|_', '', word) for word in data] # remove punctuation and underscore\n",
    "    data = [re.sub(r'\\d{1, 3}', '', word) for word in data] # remove digits that are a minimum of 1 and a maximum of 3\n",
    "    data = [re.sub(r'\\w*\\d\\w*', '', word) for word in data] # remove character strings that contain a digit\n",
    "        \n",
    "    data = [word.lower() for word in data]\n",
    "    data = [word.split() for word in data]\n",
    "\n",
    "    data = [ls for ls in data if 'woman' in ls] # change to the keyword of interest\n",
    "\n",
    "    return data"
   ]
  },
  {
   "cell_type": "code",
   "execution_count": 10,
   "metadata": {},
   "outputs": [
    {
     "data": {
      "text/plain": [
       "'/home/stephbuon/projects/faha/extra'"
      ]
     },
     "execution_count": 10,
     "metadata": {},
     "output_type": "execute_result"
    }
   ],
   "source": [
    "directory = os.path.abspath('')\n",
    "\n",
    "directory"
   ]
  },
  {
   "cell_type": "code",
   "execution_count": 13,
   "metadata": {},
   "outputs": [
    {
     "name": "stdout",
     "output_type": "stream",
     "text": [
      "[['sentence', 'she', 'was', 'the', 'first', 'woman', 'to', 'serve', 'as', 'agriculture', 'secretary', 'in', 'california'], ['sentence', 'ms', 'veneman', 'will', 'be', 'the', 'first', 'woman', 'united', 'states', 'secretary', 'of', 'agriculture'], ['sentence', 'which', 'on', 'the', 'very', 'first', 'page', 'of', 'the', 'bible', 'tells', 'us', 'that', 'man', 'and', 'woman', 'have', 'been', 'created', 'in', 'his', 'very', 'image', 'and', 'likeness', 'cf'], ['sentence', 'a', 'young', 'woman', 'whose', 'poise'], ['sentence', 'i', 'told', 'the', 'story', 'of', 'the', 'young', 'new', 'jersey', 'woman', 'who', 'in', 'may', 'of', 'gave', 'birth', 'to', 'an', 'infant', 'in', 'a', 'public', 'bathroom', 'stall', 'during', 'her', 'senior', 'prom']]\n"
     ]
    }
   ],
   "source": [
    "data = data_import(directory + '/congress_2001.json')\n",
    "\n",
    "print(data[:5])"
   ]
  },
  {
   "cell_type": "markdown",
   "metadata": {},
   "source": [
    "#### Other (Code-Based) Resources:\n"
   ]
  },
  {
   "cell_type": "markdown",
   "metadata": {},
   "source": [
    "- Lauren Klein's GitHub repository: https://github.com/laurenfklein\n",
    "- Jo Guldi's \"digital-history\" GitHub repository: https://github.com/stephbuon/digital-history"
   ]
  },
  {
   "cell_type": "markdown",
   "metadata": {},
   "source": [
    "#### Other (App-Based) Resources:"
   ]
  },
  {
   "cell_type": "markdown",
   "metadata": {},
   "source": []
  }
 ],
 "metadata": {
  "kernelspec": {
   "display_name": "Python 3.9.7 64-bit",
   "language": "python",
   "name": "python3"
  },
  "language_info": {
   "codemirror_mode": {
    "name": "ipython",
    "version": 3
   },
   "file_extension": ".py",
   "mimetype": "text/x-python",
   "name": "python",
   "nbconvert_exporter": "python",
   "pygments_lexer": "ipython3",
   "version": "3.9.7"
  },
  "orig_nbformat": 4,
  "vscode": {
   "interpreter": {
    "hash": "916dbcbb3f70747c44a77c7bcd40155683ae19c65e1c03b4aa3499c5328201f1"
   }
  }
 },
 "nbformat": 4,
 "nbformat_minor": 2
}
