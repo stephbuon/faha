{
 "cells": [
  {
   "cell_type": "code",
   "execution_count": 1,
   "metadata": {},
   "outputs": [],
   "source": [
    "import csv\n",
    "import re\n",
    "import os \n",
    "import sys\n",
    "import pickle\n",
    "import pandas as pd\n",
    "import gensim\n",
    "from gensim import corpora\n",
    "from collections import Counter\n",
    "\n",
    "def clean_data(df):\n",
    "    df = [re.sub(r'\\b[A-Z]+(?:\\s+[A-Z]+)*\\b', '', ls) for ls in df] # remove words that are all upper case - so names \n",
    "    df = [re.sub(r'\\\\\\\\n|\\\\\\\\t|\\'s', '', ls) for ls in df] # remove lien breaks, tab breaks, and possessive \"s\"\n",
    "    df = [re.sub(r'[^\\w\\s]|_', '', ls) for ls in df] # remove punctuation and underscore\n",
    "    df = [re.sub(r'\\d{1, 3}', '', ls) for ls in df] # remove digits that are a minimum of 1 and a maximum of 3\n",
    "    df = [re.sub(r'\\b\\w{1,3}\\b', '', ls) for ls in df] # test\n",
    "    df = [re.sub(r'\\w*\\d\\w*', '', ls) for ls in df] # remove character strings that contain a digit\n",
    "            \n",
    "    df = [word.lower() for word in df]\n",
    "    \n",
    "    df = [ls.split() for ls in df]\n",
    "\n",
    "    return df\n",
    "\n",
    "def import_stopwords(): # read stop words as list of strings\n",
    "    with open(path + 'topic-modeling/stopwords.csv') as f:\n",
    "        stopwords = f.read().splitlines()[1:]\n",
    "            \n",
    "    stopwords = re.compile('|'.join(stopwords))\n",
    "\n",
    "    return stopwords"
   ]
  },
  {
   "cell_type": "code",
   "execution_count": 33,
   "metadata": {},
   "outputs": [],
   "source": [
    "working_dir = '/users/sbuongiorno/'\n",
    "n_topics = 100"
   ]
  },
  {
   "cell_type": "code",
   "execution_count": 3,
   "metadata": {},
   "outputs": [
    {
     "data": {
      "text/plain": [
       "[\"['S1V0001P0_0', 'moved that Lord Walsingham be appointed chairman of the committee of privileges for the present session.']\",\n",
       " '[\\'S1V0001P0_11\\', \"The subject, in his contemplation, was such as not only that house, but many thousands of his Majesty\\'s subjects must regard with the utmost concern.\"]']"
      ]
     },
     "execution_count": 3,
     "metadata": {},
     "output_type": "execute_result"
    }
   ],
   "source": [
    "fname = '/scratch/group/pract-txt-mine/sbuongiorno/hansard_decades/hansard_1800.csv'\n",
    "\n",
    "with open(fname, newline='') as f:\n",
    "    reader = csv.reader(f)\n",
    "    text = list(reader)[1:]\n",
    "    text = list(map(str, text))\n",
    "\n",
    "text[:2]"
   ]
  },
  {
   "cell_type": "code",
   "execution_count": 4,
   "metadata": {},
   "outputs": [],
   "source": [
    "# stopwords = topic_model.import_stopwords()"
   ]
  },
  {
   "cell_type": "code",
   "execution_count": 5,
   "metadata": {},
   "outputs": [
    {
     "data": {
      "text/plain": [
       "[['moved',\n",
       "  'that',\n",
       "  'lord',\n",
       "  'walsingham',\n",
       "  'appointed',\n",
       "  'chairman',\n",
       "  'committee',\n",
       "  'privileges',\n",
       "  'present',\n",
       "  'session'],\n",
       " ['subject',\n",
       "  'contemplation',\n",
       "  'such',\n",
       "  'only',\n",
       "  'that',\n",
       "  'house',\n",
       "  'many',\n",
       "  'thousands',\n",
       "  'majesty',\n",
       "  'subjects',\n",
       "  'must',\n",
       "  'regard',\n",
       "  'with',\n",
       "  'utmost',\n",
       "  'concern']]"
      ]
     },
     "execution_count": 5,
     "metadata": {},
     "output_type": "execute_result"
    }
   ],
   "source": [
    "data = clean_data(data)\n",
    "\n",
    "data[:2]"
   ]
  },
  {
   "cell_type": "code",
   "execution_count": 6,
   "metadata": {},
   "outputs": [
    {
     "data": {
      "text/plain": [
       "<gensim.corpora.dictionary.Dictionary at 0x2aaae1f204e0>"
      ]
     },
     "execution_count": 6,
     "metadata": {},
     "output_type": "execute_result"
    }
   ],
   "source": [
    "dictionary = corpora.Dictionary(data)\n",
    "\n",
    "dictionary"
   ]
  },
  {
   "cell_type": "code",
   "execution_count": 7,
   "metadata": {},
   "outputs": [
    {
     "data": {
      "text/plain": [
       "[[(0, 1),\n",
       "  (1, 1),\n",
       "  (2, 1),\n",
       "  (3, 1),\n",
       "  (4, 1),\n",
       "  (5, 1),\n",
       "  (6, 1),\n",
       "  (7, 1),\n",
       "  (8, 1),\n",
       "  (9, 1)],\n",
       " [(8, 1),\n",
       "  (10, 1),\n",
       "  (11, 1),\n",
       "  (12, 1),\n",
       "  (13, 1),\n",
       "  (14, 1),\n",
       "  (15, 1),\n",
       "  (16, 1),\n",
       "  (17, 1),\n",
       "  (18, 1),\n",
       "  (19, 1),\n",
       "  (20, 1),\n",
       "  (21, 1),\n",
       "  (22, 1),\n",
       "  (23, 1)]]"
      ]
     },
     "execution_count": 7,
     "metadata": {},
     "output_type": "execute_result"
    }
   ],
   "source": [
    "corpus = [dictionary.doc2bow(text) for text in data]\n",
    "\n",
    "corpus[:2]"
   ]
  },
  {
   "cell_type": "code",
   "execution_count": 8,
   "metadata": {},
   "outputs": [
    {
     "name": "stdout",
     "output_type": "stream",
     "text": [
      "CPU times: user 59min 45s, sys: 13min 56s, total: 1h 13min 41s\n",
      "Wall time: 1h 30min 34s\n"
     ]
    }
   ],
   "source": [
    "%%time\n",
    "\n",
    "lda_model = gensim.models.LdaMulticore(corpus, num_topics = n_topics, id2word=dictionary, workers = 4, passes=15)"
   ]
  },
  {
   "cell_type": "markdown",
   "metadata": {},
   "source": [
    "## Saving"
   ]
  },
  {
   "cell_type": "code",
   "execution_count": 21,
   "metadata": {},
   "outputs": [],
   "source": [
    "working_folder = working_dir + 'lda_topic_model_test/'\n",
    "\n",
    "if not os.path.exists(export_folder):\n",
    "    os.mkdir(export_folder)"
   ]
  },
  {
   "cell_type": "code",
   "execution_count": 22,
   "metadata": {},
   "outputs": [],
   "source": [
    "pickle.dump(corpus, open(working_folder + 'corpus.pkl', 'wb'))\n",
    "dictionary.save(working_folder + 'dictionary.gensim')\n",
    "lda_model.save(working_folder + 'model.gensim')"
   ]
  },
  {
   "cell_type": "markdown",
   "metadata": {},
   "source": [
    "## Loading"
   ]
  },
  {
   "cell_type": "code",
   "execution_count": 23,
   "metadata": {},
   "outputs": [],
   "source": [
    "corpus = pickle.load(open(working_folder +  'corpus.pkl', 'rb'))\n",
    "dictionary = gensim.corpora.Dictionary.load(working_folder + 'dictionary.gensim')\n",
    "lda_model = gensim.models.ldamodel.LdaModel.load(working_folder + 'model.gensim')"
   ]
  },
  {
   "cell_type": "code",
   "execution_count": 41,
   "metadata": {},
   "outputs": [
    {
     "data": {
      "text/plain": [
       "[(79,\n",
       "  [('members', 0.21864453),\n",
       "   ('irish', 0.13190669),\n",
       "   ('future', 0.05683022),\n",
       "   ('national', 0.04387624),\n",
       "   ('were', 0.039752763),\n",
       "   ('past', 0.027603608),\n",
       "   ('votes', 0.026848089),\n",
       "   ('committees', 0.022873057),\n",
       "   ('boroughs', 0.02233289),\n",
       "   ('whereas', 0.017042218)]),\n",
       " (75,\n",
       "  [('state', 0.20000722),\n",
       "   ('secretary', 0.13039073),\n",
       "   ('home', 0.05450194),\n",
       "   ('department', 0.04757935),\n",
       "   ('foreign', 0.04629696),\n",
       "   ('school', 0.037353233),\n",
       "   ('affairs', 0.03526736),\n",
       "   ('under', 0.031279884),\n",
       "   ('head', 0.031023173),\n",
       "   ('protection', 0.022990663)]),\n",
       " (59,\n",
       "  [('occasion', 0.10610575),\n",
       "   ('former', 0.08252257),\n",
       "   ('together', 0.05517718),\n",
       "   ('latter', 0.04270537),\n",
       "   ('from', 0.042394407),\n",
       "   ('advice', 0.033531338),\n",
       "   ('times', 0.031144079),\n",
       "   ('procedure', 0.027539518),\n",
       "   ('induced', 0.02468544),\n",
       "   ('confess', 0.021871269)]),\n",
       " (51,\n",
       "  [('schools', 0.094272494),\n",
       "   ('necessity', 0.0703584),\n",
       "   ('holding', 0.04122999),\n",
       "   ('that', 0.038959187),\n",
       "   ('justified', 0.03676251),\n",
       "   ('exist', 0.035272323),\n",
       "   ('added', 0.030330125),\n",
       "   ('there', 0.02704763),\n",
       "   ('absolute', 0.025084019),\n",
       "   ('denied', 0.024303664)]),\n",
       " (83,\n",
       "  [('than', 0.14702249),\n",
       "   ('more', 0.14467293),\n",
       "   ('that', 0.046874553),\n",
       "   ('better', 0.033332154),\n",
       "   ('would', 0.033178587),\n",
       "   ('referred', 0.032372247),\n",
       "   ('less', 0.030155813),\n",
       "   ('nothing', 0.024012098),\n",
       "   ('much', 0.02309878),\n",
       "   ('there', 0.021427583)])]"
      ]
     },
     "execution_count": 41,
     "metadata": {},
     "output_type": "execute_result"
    }
   ],
   "source": [
    "lda_model.show_topics(formatted=False, num_topics = 5)"
   ]
  },
  {
   "cell_type": "code",
   "execution_count": 48,
   "metadata": {},
   "outputs": [],
   "source": [
    "topics = lda_model.show_topics(formatted=False, num_topics = 30)\n",
    "            \n",
    "data_flat = [w for w_list in data for w in w_list]\n",
    "counter = Counter(data_flat)\n",
    "            \n",
    "out = []\n",
    "for i, topic in topics:\n",
    "    for word, weight in topic:\n",
    "        out.append([word, i , weight, counter[word]])\n",
    "        \n",
    "df = pd.DataFrame(out, columns=['word', 'topic_id', 'importance', 'word_count'])        \n",
    "df.to_csv(working_folder + 'topics_' + str(n_topics) + '.csv')"
   ]
  },
  {
   "cell_type": "code",
   "execution_count": 49,
   "metadata": {},
   "outputs": [
    {
     "ename": "IndexError",
     "evalue": "list index out of range",
     "output_type": "error",
     "traceback": [
      "\u001b[0;31m---------------------------------------------------------------------------\u001b[0m",
      "\u001b[0;31mIndexError\u001b[0m                                Traceback (most recent call last)",
      "\u001b[0;32m<ipython-input-49-0f3448d950d8>\u001b[0m in \u001b[0;36m<module>\u001b[0;34m\u001b[0m\n\u001b[1;32m     19\u001b[0m     \u001b[0mfig\u001b[0m\u001b[0;34m.\u001b[0m\u001b[0madd_subplot\u001b[0m\u001b[0;34m(\u001b[0m\u001b[0max\u001b[0m\u001b[0;34m)\u001b[0m\u001b[0;34m\u001b[0m\u001b[0;34m\u001b[0m\u001b[0m\n\u001b[1;32m     20\u001b[0m     \u001b[0mtopic_words\u001b[0m \u001b[0;34m=\u001b[0m \u001b[0mdict\u001b[0m\u001b[0;34m(\u001b[0m\u001b[0mtopics\u001b[0m\u001b[0;34m[\u001b[0m\u001b[0mi\u001b[0m\u001b[0;34m]\u001b[0m\u001b[0;34m[\u001b[0m\u001b[0;36m1\u001b[0m\u001b[0;34m]\u001b[0m\u001b[0;34m)\u001b[0m\u001b[0;34m\u001b[0m\u001b[0;34m\u001b[0m\u001b[0m\n\u001b[0;32m---> 21\u001b[0;31m     \u001b[0mcloud\u001b[0m\u001b[0;34m.\u001b[0m\u001b[0mgenerate_from_frequencies\u001b[0m\u001b[0;34m(\u001b[0m\u001b[0mtopic_words\u001b[0m\u001b[0;34m,\u001b[0m \u001b[0mmax_font_size\u001b[0m \u001b[0;34m=\u001b[0m \u001b[0;36m300\u001b[0m\u001b[0;34m)\u001b[0m\u001b[0;34m\u001b[0m\u001b[0;34m\u001b[0m\u001b[0m\n\u001b[0m\u001b[1;32m     22\u001b[0m     \u001b[0mplt\u001b[0m\u001b[0;34m.\u001b[0m\u001b[0mgca\u001b[0m\u001b[0;34m(\u001b[0m\u001b[0;34m)\u001b[0m\u001b[0;34m.\u001b[0m\u001b[0mimshow\u001b[0m\u001b[0;34m(\u001b[0m\u001b[0mcloud\u001b[0m\u001b[0;34m)\u001b[0m\u001b[0;34m\u001b[0m\u001b[0;34m\u001b[0m\u001b[0m\n\u001b[1;32m     23\u001b[0m     \u001b[0mplt\u001b[0m\u001b[0;34m.\u001b[0m\u001b[0mgca\u001b[0m\u001b[0;34m(\u001b[0m\u001b[0;34m)\u001b[0m\u001b[0;34m.\u001b[0m\u001b[0mset_title\u001b[0m\u001b[0;34m(\u001b[0m\u001b[0;34m'Topic '\u001b[0m \u001b[0;34m+\u001b[0m \u001b[0mstr\u001b[0m\u001b[0;34m(\u001b[0m\u001b[0mi\u001b[0m\u001b[0;34m)\u001b[0m\u001b[0;34m,\u001b[0m \u001b[0mfontdict\u001b[0m \u001b[0;34m=\u001b[0m \u001b[0mdict\u001b[0m\u001b[0;34m(\u001b[0m\u001b[0msize\u001b[0m \u001b[0;34m=\u001b[0m \u001b[0;36m16\u001b[0m\u001b[0;34m)\u001b[0m\u001b[0;34m)\u001b[0m\u001b[0;34m\u001b[0m\u001b[0;34m\u001b[0m\u001b[0m\n",
      "\u001b[0;32m~/.local/lib/python3.6/site-packages/wordcloud/wordcloud.py\u001b[0m in \u001b[0;36mgenerate_from_frequencies\u001b[0;34m(self, frequencies, max_font_size)\u001b[0m\n\u001b[1;32m    531\u001b[0m                                           \u001b[0morientation\u001b[0m\u001b[0;34m=\u001b[0m\u001b[0morientation\u001b[0m\u001b[0;34m,\u001b[0m\u001b[0;34m\u001b[0m\u001b[0;34m\u001b[0m\u001b[0m\n\u001b[1;32m    532\u001b[0m                                           \u001b[0mrandom_state\u001b[0m\u001b[0;34m=\u001b[0m\u001b[0mrandom_state\u001b[0m\u001b[0;34m,\u001b[0m\u001b[0;34m\u001b[0m\u001b[0;34m\u001b[0m\u001b[0m\n\u001b[0;32m--> 533\u001b[0;31m                                           font_path=self.font_path))\n\u001b[0m\u001b[1;32m    534\u001b[0m             \u001b[0;31m# recompute integral image\u001b[0m\u001b[0;34m\u001b[0m\u001b[0;34m\u001b[0m\u001b[0;34m\u001b[0m\u001b[0m\n\u001b[1;32m    535\u001b[0m             \u001b[0;32mif\u001b[0m \u001b[0mself\u001b[0m\u001b[0;34m.\u001b[0m\u001b[0mmask\u001b[0m \u001b[0;32mis\u001b[0m \u001b[0;32mNone\u001b[0m\u001b[0;34m:\u001b[0m\u001b[0;34m\u001b[0m\u001b[0;34m\u001b[0m\u001b[0m\n",
      "\u001b[0;32m<ipython-input-49-0f3448d950d8>\u001b[0m in \u001b[0;36m<lambda>\u001b[0;34m(*args, **kwargs)\u001b[0m\n\u001b[1;32m     11\u001b[0m                   \u001b[0mmax_words\u001b[0m\u001b[0;34m=\u001b[0m\u001b[0;36m20\u001b[0m\u001b[0;34m,\u001b[0m\u001b[0;34m\u001b[0m\u001b[0;34m\u001b[0m\u001b[0m\n\u001b[1;32m     12\u001b[0m                   \u001b[0mcolormap\u001b[0m\u001b[0;34m=\u001b[0m\u001b[0;34m'tab10'\u001b[0m\u001b[0;34m,\u001b[0m\u001b[0;34m\u001b[0m\u001b[0;34m\u001b[0m\u001b[0m\n\u001b[0;32m---> 13\u001b[0;31m                   \u001b[0mcolor_func\u001b[0m\u001b[0;34m=\u001b[0m\u001b[0;32mlambda\u001b[0m \u001b[0;34m*\u001b[0m\u001b[0margs\u001b[0m\u001b[0;34m,\u001b[0m \u001b[0;34m**\u001b[0m\u001b[0mkwargs\u001b[0m\u001b[0;34m:\u001b[0m \u001b[0mcols\u001b[0m\u001b[0;34m[\u001b[0m\u001b[0mi\u001b[0m\u001b[0;34m]\u001b[0m\u001b[0;34m,\u001b[0m\u001b[0;34m\u001b[0m\u001b[0;34m\u001b[0m\u001b[0m\n\u001b[0m\u001b[1;32m     14\u001b[0m                   prefer_horizontal=1.0)\n\u001b[1;32m     15\u001b[0m \u001b[0;34m\u001b[0m\u001b[0m\n",
      "\u001b[0;31mIndexError\u001b[0m: list index out of range"
     ]
    },
    {
     "data": {
      "image/png": "[encoded data removed]",
      "text/plain": [
       "<Figure size 1080x1080 with 16 Axes>"
      ]
     },
     "metadata": {
      "needs_background": "light"
     },
     "output_type": "display_data"
    }
   ],
   "source": [
    "from matplotlib import pyplot as plt\n",
    "from wordcloud import WordCloud, STOPWORDS\n",
    "import matplotlib.colors as mcolors\n",
    "\n",
    "cols = [color for name, color in mcolors.TABLEAU_COLORS.items()]  # more colors: 'mcolors.XKCD_COLORS'\n",
    "\n",
    "cloud = WordCloud(#stopwords=stop_words,\n",
    "                  background_color='white',\n",
    "                  width=2500,\n",
    "                  height=1800,\n",
    "                  max_words=20,\n",
    "                  colormap='tab10',\n",
    "                  color_func=lambda *args, **kwargs: cols[i],\n",
    "                  prefer_horizontal=1.0)\n",
    "\n",
    "fig, axes = plt.subplots(4, 4, figsize=(15, 15), sharex=True, sharey=True)\n",
    "\n",
    "for i, ax in enumerate(axes.flatten()):\n",
    "    fig.add_subplot(ax)\n",
    "    topic_words = dict(topics[i][1])\n",
    "    cloud.generate_from_frequencies(topic_words, max_font_size = 300)\n",
    "    plt.gca().imshow(cloud)\n",
    "    plt.gca().set_title('Topic ' + str(i), fontdict = dict(size = 16))\n",
    "    plt.gca().axis('off')\n",
    "\n",
    "\n",
    "plt.subplots_adjust(wspace=0, hspace=0)\n",
    "plt.axis('off')\n",
    "plt.margins(x=0, y=0)\n",
    "plt.tight_layout()\n",
    "plt.show()"
   ]
  },
  {
   "cell_type": "code",
   "execution_count": 31,
   "metadata": {},
   "outputs": [
    {
     "ename": "ModuleNotFoundError",
     "evalue": "No module named 'pyLDAvis'",
     "output_type": "error",
     "traceback": [
      "\u001b[0;31m---------------------------------------------------------------------------\u001b[0m",
      "\u001b[0;31mModuleNotFoundError\u001b[0m                       Traceback (most recent call last)",
      "\u001b[0;32m<ipython-input-31-26ab41fdca2c>\u001b[0m in \u001b[0;36m<module>\u001b[0;34m\u001b[0m\n\u001b[0;32m----> 1\u001b[0;31m \u001b[0;32mimport\u001b[0m \u001b[0mpyLDAvis\u001b[0m\u001b[0;34m.\u001b[0m\u001b[0mgensim_models\u001b[0m\u001b[0;34m\u001b[0m\u001b[0;34m\u001b[0m\u001b[0m\n\u001b[0m\u001b[1;32m      2\u001b[0m \u001b[0;32mfrom\u001b[0m \u001b[0mmatplotlib\u001b[0m \u001b[0;32mimport\u001b[0m \u001b[0mpyplot\u001b[0m \u001b[0;32mas\u001b[0m \u001b[0mplt\u001b[0m\u001b[0;34m\u001b[0m\u001b[0;34m\u001b[0m\u001b[0m\n\u001b[1;32m      3\u001b[0m \u001b[0;34m\u001b[0m\u001b[0m\n\u001b[1;32m      4\u001b[0m \u001b[0mstart\u001b[0m \u001b[0;34m=\u001b[0m \u001b[0;34m-\u001b[0m\u001b[0;36m9\u001b[0m\u001b[0;34m\u001b[0m\u001b[0;34m\u001b[0m\u001b[0m\n\u001b[1;32m      5\u001b[0m \u001b[0mstop\u001b[0m \u001b[0;34m=\u001b[0m \u001b[0;36m0\u001b[0m\u001b[0;34m\u001b[0m\u001b[0;34m\u001b[0m\u001b[0m\n",
      "\u001b[0;31mModuleNotFoundError\u001b[0m: No module named 'pyLDAvis'"
     ]
    }
   ],
   "source": [
    "import pyLDAvis.gensim_models\n",
    "from matplotlib import pyplot as plt\n",
    "\n",
    "start = -9\n",
    "stop = 0\n",
    "\n",
    "for t in range(0,3):\n",
    "    start = start + 9\n",
    "    stop = stop + 8\n",
    "\n",
    "    fig, axes = plt.subplots(3, 3, figsize=(16,10), sharey=True, dpi=500)\n",
    "\n",
    "    for i, ax in enumerate(axes.flatten()):\n",
    "        i = i + start \n",
    "\n",
    "        #ax.set_facecolor('white')\n",
    "\n",
    "        ax.bar(x='word', height=\"word_count\", data=df.loc[df.topic_id==i, :],  width=0.5, alpha=0.3, label='Word Count') #color=cols[i],\n",
    "        ax_twin = ax.twinx()\n",
    "        ax_twin.bar(x='word', height=\"importance\", data=df.loc[df.topic_id==i, :],  width=0.2, label='Weights') # color=cols[i],\n",
    "        ax.set_ylabel('Word Count')#, color=cols[i])\n",
    "        ax_twin.set_ylim(0, 0.030); ax.set_ylim(0, 3500)\n",
    "        ax.set_title('Topic: ' + str(i), fontsize=16) # color=cols[i], \n",
    "        ax.tick_params(axis='y', left=False)\n",
    "        ax.set_xticklabels(df.loc[df.topic_id==i, 'word'], rotation=30, horizontalalignment= 'right')\n",
    "        ax.legend(loc='upper left'); ax_twin.legend(loc='upper right')\n",
    "\n",
    "    fig.tight_layout(w_pad=2)    \n",
    "    fig.suptitle('Word Count and Importance of Topic Keywords', fontsize=22, y=1.05)    \n",
    "    #plt.show()\n",
    "\n",
    "    viz_export_folder = dir + '/' + 'lda_topic_model_visualizations_' + target_folder + '/'\n",
    "\n",
    "    if not os.path.exists(viz_export_folder):\n",
    "        os.mkdir(viz_export_folder)\n",
    "\n",
    "    plt.savefig(viz_export_folder + target_folder + '_topics_' + str(start) + '-' + str(stop) + '.jpg')\n",
    "    plt.close(fig) "
   ]
  },
  {
   "cell_type": "code",
   "execution_count": 32,
   "metadata": {},
   "outputs": [
    {
     "name": "stdout",
     "output_type": "stream",
     "text": [
      "Collecting pyLDAvis\n",
      "  Using cached https://files.pythonhosted.org/packages/03/a5/15a0da6b0150b8b68610cc78af80364a80a9a4c8b6dd5ee549b8989d4b60/pyLDAvis-3.3.1.tar.gz\n",
      "  Installing build dependencies ... \u001b[?25ldone\n",
      "\u001b[?25h  Getting requirements to build wheel ... \u001b[?25ldone\n",
      "\u001b[?25h  Installing backend dependencies ... \u001b[?25ldone\n",
      "\u001b[?25h    Preparing wheel metadata ... \u001b[?25ldone\n",
      "\u001b[?25hRequirement already satisfied: sklearn in /hpc/applications/anaconda/3/lib/python3.6/site-packages (from pyLDAvis) (0.0)\n",
      "Requirement already satisfied: scikit-learn in /hpc/applications/anaconda/3/lib/python3.6/site-packages (from pyLDAvis) (0.22.2.post1)\n",
      "\u001b[31mERROR: Could not find a version that satisfies the requirement numpy>=1.20.0 (from pyLDAvis) (from versions: 1.3.0, 1.4.1, 1.5.0, 1.5.1, 1.6.0, 1.6.1, 1.6.2, 1.7.0, 1.7.1, 1.7.2, 1.8.0, 1.8.1, 1.8.2, 1.9.0, 1.9.1, 1.9.2, 1.9.3, 1.10.0.post2, 1.10.1, 1.10.2, 1.10.4, 1.11.0, 1.11.1, 1.11.2, 1.11.3, 1.12.0, 1.12.1, 1.13.0rc1, 1.13.0rc2, 1.13.0, 1.13.1, 1.13.3, 1.14.0rc1, 1.14.0, 1.14.1, 1.14.2, 1.14.3, 1.14.4, 1.14.5, 1.14.6, 1.15.0rc1, 1.15.0rc2, 1.15.0, 1.15.1, 1.15.2, 1.15.3, 1.15.4, 1.16.0rc1, 1.16.0rc2, 1.16.0, 1.16.1, 1.16.2, 1.16.3, 1.16.4, 1.16.5, 1.16.6, 1.17.0rc1, 1.17.0rc2, 1.17.0, 1.17.1, 1.17.2, 1.17.3, 1.17.4, 1.17.5, 1.18.0rc1, 1.18.0, 1.18.1, 1.18.2, 1.18.3, 1.18.4, 1.18.5, 1.19.0rc1, 1.19.0rc2, 1.19.0, 1.19.1, 1.19.2, 1.19.3, 1.19.4, 1.19.5)\u001b[0m\n",
      "\u001b[31mERROR: No matching distribution found for numpy>=1.20.0 (from pyLDAvis)\u001b[0m\n"
     ]
    }
   ],
   "source": [
    "!pip install --user pyLDAvis"
   ]
  },
  {
   "cell_type": "code",
   "execution_count": null,
   "metadata": {},
   "outputs": [],
   "source": []
  }
 ],
 "metadata": {
  "kernelspec": {
   "display_name": "Python 3",
   "language": "python",
   "name": "python3"
  },
  "language_info": {
   "codemirror_mode": {
    "name": "ipython",
    "version": 3
   },
   "file_extension": ".py",
   "mimetype": "text/x-python",
   "name": "python",
   "nbconvert_exporter": "python",
   "pygments_lexer": "ipython3",
   "version": "3.6.7"
  }
 },
 "nbformat": 4,
 "nbformat_minor": 4
}
